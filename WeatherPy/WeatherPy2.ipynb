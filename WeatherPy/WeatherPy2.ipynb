{
 "cells": [
  {
   "cell_type": "code",
   "execution_count": 1,
   "id": "3773100c",
   "metadata": {},
   "outputs": [],
   "source": [
    "# Dependencies and Setup\n",
    "import matplotlib.pyplot as plt\n",
    "import pandas as pd\n",
    "import numpy as np\n",
    "import requests\n",
    "import time\n",
    "from scipy.stats import linregress\n",
    "import pprint as pprint\n",
    "\n",
    "# Import API key\n",
    "from api_keys import weather_api_key\n",
    "\n",
    "# Incorporated citipy to determine city based on latitude and longitude\n",
    "from citipy import citipy\n",
    "\n",
    "# Output File (CSV)\n",
    "output_data_file = \"output_data/cities.csv\"\n",
    "\n",
    "# Range of latitudes and longitudes\n",
    "lat_range = (-90, 90)\n",
    "lng_range = (-180, 180) "
   ]
  },
  {
   "cell_type": "code",
   "execution_count": 2,
   "id": "8e38d173",
   "metadata": {},
   "outputs": [
    {
     "name": "stdout",
     "output_type": "stream",
     "text": [
      "['thompson', 'west wendover', 'talnakh', 'nome', 'sinnamary', 'victoria', 'san andres', 'yellowknife', 'yulara', 'adrar', 'sao filipe', 'hambantota', 'achisay', 'longyearbyen', 'faya', 'punta arenas', 'mataura', 'qaanaaq', 'camana', 'bambous virieux', 'rikitea', 'vaini', 'hobart', 'bonthe', 'high level', 'hovd', 'cape town', 'tidore', 'bonavista', 'fortuna', 'carnarvon', 'komsomolskiy', 'bubaque', 'iseyin', 'albany', 'atuona', 'saint-philippe', 'polovinnoye', 'anadyr', 'baillif', 'clyde river', 'salalah', 'kapaa', 'matangad', 'vila', 'sikeston', 'new norfolk', 'port alfred', 'nikolskoye', 'cockburn town', 'butaritari', 'vila velha', 'andros town', 'sioux lookout', 'tuktoyaktuk', 'ziarat', 'tiarei', 'hirara', 'greenville', 'cherskiy', 'halifax', 'puerto ayora', 'port lincoln', 'busselton', 'fort nelson', 'barrow', 'urdzhar', 'georgetown', 'atar', 'illoqqortoormiut', 'riberalta', 'saldanha', 'sibolga', 'guerrero negro', 'ushuaia', 'saskylakh', 'belushya guba', 'taolanaro', 'constitucion', 'ghanzi', 'sorland']\n"
     ]
    }
   ],
   "source": [
    "# List for holding lat_lngs and cities\n",
    "lat_lngs = []\n",
    "cities = []\n",
    "\n",
    "# Create a set of random lat and lng combinations\n",
    "lats = np.random.uniform(lat_range[0], lat_range[1], size=100)\n",
    "lngs = np.random.uniform(lng_range[0], lng_range[1], size=100)\n",
    "lat_lngs = zip(lats, lngs)\n",
    "\n",
    "# Identify nearest city for each lat, lng combination\n",
    "for lat_lng in lat_lngs:\n",
    "    city = citipy.nearest_city(lat_lng[0], lat_lng[1]).city_name\n",
    "    \n",
    "    # If the city is unique, then add it to a our cities list\n",
    "    if city not in cities:\n",
    "        cities.append(city)\n",
    "\n",
    "# Print the city count to confirm sufficient count\n",
    "len(cities)\n",
    "print(cities)"
   ]
  },
  {
   "cell_type": "code",
   "execution_count": 3,
   "id": "4c64886d",
   "metadata": {},
   "outputs": [
    {
     "name": "stdout",
     "output_type": "stream",
     "text": [
      "The temperature in thompson is [73.47] C.\n",
      "The temperature in west wendover is [73.47, 76.21] C.\n",
      "The temperature in talnakh is [73.47, 76.21, 76.1] C.\n",
      "The temperature in nome is [73.47, 76.21, 76.1, 50.07] C.\n",
      "The temperature in sinnamary is [73.47, 76.21, 76.1, 50.07, 84.94] C.\n",
      "The temperature in victoria is [73.47, 76.21, 76.1, 50.07, 84.94, 84.78] C.\n",
      "The temperature in san andres is [73.47, 76.21, 76.1, 50.07, 84.94, 84.78, 86.02] C.\n",
      "The temperature in yellowknife is [73.47, 76.21, 76.1, 50.07, 84.94, 84.78, 86.02, 52.75] C.\n",
      "The temperature in yulara is [73.47, 76.21, 76.1, 50.07, 84.94, 84.78, 86.02, 52.75, 64.24] C.\n",
      "The temperature in adrar is [73.47, 76.21, 76.1, 50.07, 84.94, 84.78, 86.02, 52.75, 64.24, 107.13] C.\n",
      "The temperature in sao filipe is [73.47, 76.21, 76.1, 50.07, 84.94, 84.78, 86.02, 52.75, 64.24, 107.13, 75.09] C.\n",
      "The temperature in hambantota is [73.47, 76.21, 76.1, 50.07, 84.94, 84.78, 86.02, 52.75, 64.24, 107.13, 75.09, 80.71] C.\n"
     ]
    },
    {
     "ename": "KeyError",
     "evalue": "'main'",
     "output_type": "error",
     "traceback": [
      "\u001b[1;31m---------------------------------------------------------------------------\u001b[0m",
      "\u001b[1;31mKeyError\u001b[0m                                  Traceback (most recent call last)",
      "\u001b[1;32m<ipython-input-3-999585ea643c>\u001b[0m in \u001b[0;36m<module>\u001b[1;34m\u001b[0m\n\u001b[0;32m     13\u001b[0m \u001b[1;32mfor\u001b[0m \u001b[0mcity\u001b[0m \u001b[1;32min\u001b[0m \u001b[0mcities\u001b[0m\u001b[1;33m:\u001b[0m\u001b[1;33m\u001b[0m\u001b[1;33m\u001b[0m\u001b[0m\n\u001b[0;32m     14\u001b[0m     \u001b[0mresponse\u001b[0m \u001b[1;33m=\u001b[0m \u001b[0mrequests\u001b[0m\u001b[1;33m.\u001b[0m\u001b[0mget\u001b[0m\u001b[1;33m(\u001b[0m\u001b[0mquery_url\u001b[0m \u001b[1;33m+\u001b[0m \u001b[0mcity\u001b[0m\u001b[1;33m)\u001b[0m\u001b[1;33m.\u001b[0m\u001b[0mjson\u001b[0m\u001b[1;33m(\u001b[0m\u001b[1;33m)\u001b[0m\u001b[1;33m\u001b[0m\u001b[1;33m\u001b[0m\u001b[0m\n\u001b[1;32m---> 15\u001b[1;33m     \u001b[0mtemp\u001b[0m\u001b[1;33m.\u001b[0m\u001b[0mappend\u001b[0m\u001b[1;33m(\u001b[0m\u001b[0mresponse\u001b[0m\u001b[1;33m[\u001b[0m\u001b[1;34m'main'\u001b[0m\u001b[1;33m]\u001b[0m\u001b[1;33m[\u001b[0m\u001b[1;34m'temp'\u001b[0m\u001b[1;33m]\u001b[0m\u001b[1;33m)\u001b[0m\u001b[1;33m\u001b[0m\u001b[1;33m\u001b[0m\u001b[0m\n\u001b[0m\u001b[0;32m     16\u001b[0m     \u001b[0mhumidity\u001b[0m\u001b[1;33m.\u001b[0m\u001b[0mappend\u001b[0m\u001b[1;33m(\u001b[0m\u001b[0mresponse\u001b[0m\u001b[1;33m[\u001b[0m\u001b[1;34m'main'\u001b[0m\u001b[1;33m]\u001b[0m\u001b[1;33m[\u001b[0m\u001b[1;34m'humidity'\u001b[0m\u001b[1;33m]\u001b[0m\u001b[1;33m)\u001b[0m\u001b[1;33m\u001b[0m\u001b[1;33m\u001b[0m\u001b[0m\n\u001b[0;32m     17\u001b[0m     \u001b[0mcloudiness\u001b[0m\u001b[1;33m.\u001b[0m\u001b[0mappend\u001b[0m\u001b[1;33m(\u001b[0m\u001b[0mresponse\u001b[0m\u001b[1;33m[\u001b[0m\u001b[1;34m'clouds'\u001b[0m\u001b[1;33m]\u001b[0m\u001b[1;33m[\u001b[0m\u001b[1;34m'all'\u001b[0m\u001b[1;33m]\u001b[0m\u001b[1;33m)\u001b[0m\u001b[1;33m\u001b[0m\u001b[1;33m\u001b[0m\u001b[0m\n",
      "\u001b[1;31mKeyError\u001b[0m: 'main'"
     ]
    }
   ],
   "source": [
    "# Save config info\n",
    "url = \"http://api.openweathermap.org/data/2.5/weather?\"\n",
    "units = \"imperial\"\n",
    "\n",
    "# Build query url and request results\n",
    "query_url = f\"{url}appid={weather_api_key}&units={units}&q=\" \n",
    "# Set temperature from response\n",
    "temp = []\n",
    "humidity = []\n",
    "cloudiness = []\n",
    "wind_speed = []\n",
    "# Create for loop for temperatures in city list\n",
    "for city in cities:    \n",
    "    response = requests.get(query_url + city).json()\n",
    "    temp.append(response['main']['temp'])\n",
    "    humidity.append(response['main']['humidity'])\n",
    "    cloudiness.append(response['clouds']['all'])\n",
    "    wind_speed.append(response['wind']['speed'])\n",
    "    print(f\"The temperature in {city} is {temp} C.\")\n"
   ]
  },
  {
   "cell_type": "code",
   "execution_count": null,
   "id": "da3a66c5",
   "metadata": {},
   "outputs": [],
   "source": [
    "cities_df = pd.DataFrame({'Cities': cities, 'Latitude': lats, 'Longitude': lngs, 'Temperature': temp, 'Humidity': humidity, 'Cloudiness': cloudiness, 'Wind Speed': wind_speed})\n",
    "cities_df"
   ]
  },
  {
   "cell_type": "code",
   "execution_count": null,
   "id": "77a0dbd3",
   "metadata": {},
   "outputs": [],
   "source": [
    "cities_df.to_csv(\"../cities_output_student.csv\", encoding=\"utf-8\", index=False) "
   ]
  },
  {
   "cell_type": "code",
   "execution_count": null,
   "id": "536f912b",
   "metadata": {},
   "outputs": [],
   "source": [
    "# Temperature (F) vs. Latitude\n",
    "plt.scatter(cities_df['Latitude'], cities_df['Temperature'])\n",
    "plt.xlabel('Latitude')\n",
    "plt.ylabel('Temperature')\n",
    "plt.title('Temperature (F) vs. Latitude')"
   ]
  },
  {
   "cell_type": "code",
   "execution_count": null,
   "id": "83816b53",
   "metadata": {},
   "outputs": [],
   "source": [
    "# Humidity (%) vs Latitude\n",
    "plt.scatter(cities_df['Latitude'], cities_df['Humidity'])\n",
    "plt.xlabel('Latitude')\n",
    "plt.ylabel('Humidity')\n",
    "plt.title('Humidity (%) vs. Latitude')"
   ]
  },
  {
   "cell_type": "code",
   "execution_count": null,
   "id": "882bd428",
   "metadata": {},
   "outputs": [],
   "source": [
    "# Cloudiness (%) vs Latitude\n",
    "plt.scatter(cities_df['Latitude'], cities_df['Cloudiness'])\n",
    "plt.xlabel('Latitude')\n",
    "plt.ylabel('Cloudiness')\n",
    "plt.title('Cloudiness (%) vs. Latitude')"
   ]
  },
  {
   "cell_type": "code",
   "execution_count": null,
   "id": "1c0edec8",
   "metadata": {},
   "outputs": [],
   "source": [
    "# Wind Speed (mph) vs. Latitude\n",
    "plt.scatter(cities_df['Latitude'], cities_df['Wind Speed'])\n",
    "plt.xlabel('Latitude')\n",
    "plt.ylabel('Wind Speed')\n",
    "plt.title('Wind Speed (mph) vs. Latitude')"
   ]
  },
  {
   "cell_type": "code",
   "execution_count": null,
   "id": "b2581127",
   "metadata": {},
   "outputs": [],
   "source": [
    "# Temperature (F) vs. Latitude\n",
    "plt.scatter(cities_df['Latitude'], cities_df['Temperature'])\n",
    "plt.xlabel('Latitude')\n",
    "plt.ylabel('Temperature')\n",
    "plt.title('Temperature (F) vs. Latitude')"
   ]
  },
  {
   "cell_type": "code",
   "execution_count": null,
   "id": "1a351712",
   "metadata": {},
   "outputs": [],
   "source": [
    "x_values = cities_df.groupby['Latitude'] < 0\n",
    "plt.scatter(x_values, cities_df['Temperature'])\n",
    "plt.xlabel('Latitude')\n",
    "plt.ylabel('Temperature')"
   ]
  }
 ],
 "metadata": {
  "kernelspec": {
   "display_name": "Python 3",
   "language": "python",
   "name": "python3"
  },
  "language_info": {
   "codemirror_mode": {
    "name": "ipython",
    "version": 3
   },
   "file_extension": ".py",
   "mimetype": "text/x-python",
   "name": "python",
   "nbconvert_exporter": "python",
   "pygments_lexer": "ipython3",
   "version": "3.8.5"
  }
 },
 "nbformat": 4,
 "nbformat_minor": 5
}
