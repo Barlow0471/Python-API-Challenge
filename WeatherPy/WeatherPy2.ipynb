{
 "cells": [
  {
   "cell_type": "code",
   "execution_count": 4,
   "id": "a4e61a06",
   "metadata": {},
   "outputs": [],
   "source": [
    "# Dependencies and Setup\n",
    "import matplotlib.pyplot as plt\n",
    "import pandas as pd\n",
    "import numpy as np\n",
    "import requests\n",
    "import time\n",
    "from scipy.stats import linregress\n",
    "import pprint as pprint\n",
    "\n",
    "# Import API key\n",
    "from api_keys import weather_api_key\n",
    "\n",
    "# Incorporated citipy to determine city based on latitude and longitude\n",
    "from citipy import citipy\n",
    "\n",
    "# Output File (CSV)\n",
    "output_data_file = \"output_data/cities.csv\"\n",
    "\n",
    "# Range of latitudes and longitudes\n",
    "lat_range = (-90, 90)\n",
    "lng_range = (-180, 180) "
   ]
  },
  {
   "cell_type": "code",
   "execution_count": 29,
   "id": "a23843f6",
   "metadata": {},
   "outputs": [
    {
     "name": "stdout",
     "output_type": "stream",
     "text": [
      "['zhigansk', 'shahabad', 'busselton', 'narsaq', 'bambous virieux', 'dikson', 'hobart', 'puerto ayora', 'atuona', 'barrow']\n"
     ]
    }
   ],
   "source": [
    "# List for holding lat_lngs and cities\n",
    "lat_lngs = []\n",
    "cities = []\n",
    "\n",
    "# Create a set of random lat and lng combinations\n",
    "lats = np.random.uniform(lat_range[0], lat_range[1], size=10)\n",
    "lngs = np.random.uniform(lng_range[0], lng_range[1], size=10)\n",
    "lat_lngs = zip(lats, lngs)\n",
    "\n",
    "# Identify nearest city for each lat, lng combination\n",
    "for lat_lng in lat_lngs:\n",
    "    city = citipy.nearest_city(lat_lng[0], lat_lng[1]).city_name\n",
    "    \n",
    "    # If the city is unique, then add it to a our cities list\n",
    "    if city not in cities:\n",
    "        cities.append(city)\n",
    "\n",
    "# Print the city count to confirm sufficient count\n",
    "len(cities)\n",
    "print(cities)"
   ]
  },
  {
   "cell_type": "code",
   "execution_count": 30,
   "id": "e181e2dc",
   "metadata": {},
   "outputs": [
    {
     "name": "stdout",
     "output_type": "stream",
     "text": [
      "The temperature in zhigansk is [55.29] C.\n",
      "The temperature in shahabad is [55.29, 85.98] C.\n",
      "The temperature in busselton is [55.29, 85.98, 53.04] C.\n",
      "The temperature in narsaq is [55.29, 85.98, 53.04, 47.21] C.\n",
      "The temperature in bambous virieux is [55.29, 85.98, 53.04, 47.21, 70.05] C.\n",
      "The temperature in dikson is [55.29, 85.98, 53.04, 47.21, 70.05, 37.94] C.\n",
      "The temperature in hobart is [55.29, 85.98, 53.04, 47.21, 70.05, 37.94, 43.93] C.\n",
      "The temperature in puerto ayora is [55.29, 85.98, 53.04, 47.21, 70.05, 37.94, 43.93, 74.55] C.\n",
      "The temperature in atuona is [55.29, 85.98, 53.04, 47.21, 70.05, 37.94, 43.93, 74.55, 78.71] C.\n",
      "The temperature in barrow is [55.29, 85.98, 53.04, 47.21, 70.05, 37.94, 43.93, 74.55, 78.71, 36.46] C.\n"
     ]
    }
   ],
   "source": [
    "# Save config info\n",
    "url = \"http://api.openweathermap.org/data/2.5/weather?\"\n",
    "units = \"imperial\"\n",
    "\n",
    "# Build query url and request results\n",
    "query_url = f\"{url}appid={weather_api_key}&units={units}&q=\" \n",
    "# Set temperature from response\n",
    "temp = []\n",
    "humidity = []\n",
    "cloudiness = []\n",
    "wind_speed = []\n",
    "# Create for loop for temperatures in city list\n",
    "for city in cities:    \n",
    "    response = requests.get(query_url + city).json()\n",
    "    temp.append(response['main']['temp'])\n",
    "    humidity.append(response['main']['humidity'])\n",
    "    cloudiness.append(response['clouds']['all'])\n",
    "    wind_speed.append(response['wind']['speed'])\n",
    "    print(f\"The temperature in {city} is {temp} C.\")\n"
   ]
  },
  {
   "cell_type": "code",
   "execution_count": 31,
   "id": "2d90f1f1",
   "metadata": {},
   "outputs": [
    {
     "data": {
      "text/html": [
       "<div>\n",
       "<style scoped>\n",
       "    .dataframe tbody tr th:only-of-type {\n",
       "        vertical-align: middle;\n",
       "    }\n",
       "\n",
       "    .dataframe tbody tr th {\n",
       "        vertical-align: top;\n",
       "    }\n",
       "\n",
       "    .dataframe thead th {\n",
       "        text-align: right;\n",
       "    }\n",
       "</style>\n",
       "<table border=\"1\" class=\"dataframe\">\n",
       "  <thead>\n",
       "    <tr style=\"text-align: right;\">\n",
       "      <th></th>\n",
       "      <th>Cities</th>\n",
       "      <th>Latitude</th>\n",
       "      <th>Longitude</th>\n",
       "      <th>Temperature</th>\n",
       "      <th>Humidity</th>\n",
       "      <th>Cloudiness</th>\n",
       "      <th>Wind Speed</th>\n",
       "    </tr>\n",
       "  </thead>\n",
       "  <tbody>\n",
       "    <tr>\n",
       "      <th>0</th>\n",
       "      <td>zhigansk</td>\n",
       "      <td>69.278501</td>\n",
       "      <td>119.673576</td>\n",
       "      <td>55.29</td>\n",
       "      <td>75</td>\n",
       "      <td>6</td>\n",
       "      <td>14.83</td>\n",
       "    </tr>\n",
       "    <tr>\n",
       "      <th>1</th>\n",
       "      <td>shahabad</td>\n",
       "      <td>17.170840</td>\n",
       "      <td>76.992140</td>\n",
       "      <td>85.98</td>\n",
       "      <td>74</td>\n",
       "      <td>57</td>\n",
       "      <td>9.15</td>\n",
       "    </tr>\n",
       "    <tr>\n",
       "      <th>2</th>\n",
       "      <td>busselton</td>\n",
       "      <td>-65.988360</td>\n",
       "      <td>96.022635</td>\n",
       "      <td>53.04</td>\n",
       "      <td>70</td>\n",
       "      <td>100</td>\n",
       "      <td>15.43</td>\n",
       "    </tr>\n",
       "    <tr>\n",
       "      <th>3</th>\n",
       "      <td>narsaq</td>\n",
       "      <td>76.445302</td>\n",
       "      <td>-66.207292</td>\n",
       "      <td>47.21</td>\n",
       "      <td>87</td>\n",
       "      <td>92</td>\n",
       "      <td>5.19</td>\n",
       "    </tr>\n",
       "    <tr>\n",
       "      <th>4</th>\n",
       "      <td>bambous virieux</td>\n",
       "      <td>-28.085906</td>\n",
       "      <td>80.383755</td>\n",
       "      <td>70.05</td>\n",
       "      <td>83</td>\n",
       "      <td>75</td>\n",
       "      <td>5.75</td>\n",
       "    </tr>\n",
       "    <tr>\n",
       "      <th>5</th>\n",
       "      <td>dikson</td>\n",
       "      <td>76.343615</td>\n",
       "      <td>78.255167</td>\n",
       "      <td>37.94</td>\n",
       "      <td>96</td>\n",
       "      <td>100</td>\n",
       "      <td>25.75</td>\n",
       "    </tr>\n",
       "    <tr>\n",
       "      <th>6</th>\n",
       "      <td>hobart</td>\n",
       "      <td>-87.059189</td>\n",
       "      <td>149.472506</td>\n",
       "      <td>43.93</td>\n",
       "      <td>73</td>\n",
       "      <td>100</td>\n",
       "      <td>3.00</td>\n",
       "    </tr>\n",
       "    <tr>\n",
       "      <th>7</th>\n",
       "      <td>puerto ayora</td>\n",
       "      <td>-15.852764</td>\n",
       "      <td>-94.534072</td>\n",
       "      <td>74.55</td>\n",
       "      <td>81</td>\n",
       "      <td>15</td>\n",
       "      <td>8.99</td>\n",
       "    </tr>\n",
       "    <tr>\n",
       "      <th>8</th>\n",
       "      <td>atuona</td>\n",
       "      <td>-10.871439</td>\n",
       "      <td>-137.734927</td>\n",
       "      <td>78.71</td>\n",
       "      <td>68</td>\n",
       "      <td>72</td>\n",
       "      <td>16.33</td>\n",
       "    </tr>\n",
       "    <tr>\n",
       "      <th>9</th>\n",
       "      <td>barrow</td>\n",
       "      <td>86.133128</td>\n",
       "      <td>-160.127445</td>\n",
       "      <td>36.46</td>\n",
       "      <td>94</td>\n",
       "      <td>100</td>\n",
       "      <td>0.85</td>\n",
       "    </tr>\n",
       "  </tbody>\n",
       "</table>\n",
       "</div>"
      ],
      "text/plain": [
       "            Cities   Latitude   Longitude  Temperature  Humidity  Cloudiness  \\\n",
       "0         zhigansk  69.278501  119.673576        55.29        75           6   \n",
       "1         shahabad  17.170840   76.992140        85.98        74          57   \n",
       "2        busselton -65.988360   96.022635        53.04        70         100   \n",
       "3           narsaq  76.445302  -66.207292        47.21        87          92   \n",
       "4  bambous virieux -28.085906   80.383755        70.05        83          75   \n",
       "5           dikson  76.343615   78.255167        37.94        96         100   \n",
       "6           hobart -87.059189  149.472506        43.93        73         100   \n",
       "7     puerto ayora -15.852764  -94.534072        74.55        81          15   \n",
       "8           atuona -10.871439 -137.734927        78.71        68          72   \n",
       "9           barrow  86.133128 -160.127445        36.46        94         100   \n",
       "\n",
       "   Wind Speed  \n",
       "0       14.83  \n",
       "1        9.15  \n",
       "2       15.43  \n",
       "3        5.19  \n",
       "4        5.75  \n",
       "5       25.75  \n",
       "6        3.00  \n",
       "7        8.99  \n",
       "8       16.33  \n",
       "9        0.85  "
      ]
     },
     "execution_count": 31,
     "metadata": {},
     "output_type": "execute_result"
    }
   ],
   "source": [
    "cities_df = pd.DataFrame({'Cities': cities, 'Latitude': lats, 'Longitude': lngs, 'Temperature': temp, 'Humidity': humidity, 'Cloudiness': cloudiness, 'Wind Speed': wind_speed})\n",
    "cities_df"
   ]
  },
  {
   "cell_type": "code",
   "execution_count": 32,
   "id": "a56f4620",
   "metadata": {},
   "outputs": [
    {
     "data": {
      "text/plain": [
       "Text(0, 0.5, 'Temperature')"
      ]
     },
     "execution_count": 32,
     "metadata": {},
     "output_type": "execute_result"
    },
    {
     "data": {
      "image/png": "[encoded data removed]",
      "text/plain": [
       "<Figure size 432x288 with 1 Axes>"
      ]
     },
     "metadata": {
      "needs_background": "light"
     },
     "output_type": "display_data"
    }
   ],
   "source": [
    "# Temperature (F) vs. Latitude\n",
    "plt.scatter(cities_df['Latitude'], cities_df['Temperature'])\n",
    "plt.xlabel('Latitude')\n",
    "plt.ylabel('Temperature')"
   ]
  },
  {
   "cell_type": "code",
   "execution_count": 36,
   "id": "2b932a16",
   "metadata": {},
   "outputs": [
    {
     "data": {
      "text/plain": [
       "Text(0, 0.5, 'Humidity')"
      ]
     },
     "execution_count": 36,
     "metadata": {},
     "output_type": "execute_result"
    },
    {
     "data": {
      "image/png": "[encoded data removed]",
      "text/plain": [
       "<Figure size 432x288 with 1 Axes>"
      ]
     },
     "metadata": {
      "needs_background": "light"
     },
     "output_type": "display_data"
    }
   ],
   "source": [
    "# Humidity (%) vs Latitude\n",
    "plt.scatter(cities_df['Latitude'], cities_df['Humidity'])\n",
    "plt.xlabel('Latitude')\n",
    "plt.ylabel('Humidity')"
   ]
  },
  {
   "cell_type": "code",
   "execution_count": 35,
   "id": "de1f9719",
   "metadata": {},
   "outputs": [
    {
     "data": {
      "text/plain": [
       "Text(0, 0.5, 'Cloudiness')"
      ]
     },
     "execution_count": 35,
     "metadata": {},
     "output_type": "execute_result"
    },
    {
     "data": {
      "image/png": "[encoded data removed]",
      "text/plain": [
       "<Figure size 432x288 with 1 Axes>"
      ]
     },
     "metadata": {
      "needs_background": "light"
     },
     "output_type": "display_data"
    }
   ],
   "source": [
    "# Cloudiness (%) vs Latitude\n",
    "plt.scatter(cities_df['Latitude'], cities_df['Cloudiness'])\n",
    "plt.xlabel('Latitude')\n",
    "plt.ylabel('Cloudiness')"
   ]
  },
  {
   "cell_type": "code",
   "execution_count": 39,
   "id": "96831044",
   "metadata": {},
   "outputs": [
    {
     "data": {
      "text/plain": [
       "Text(0, 0.5, 'Wind Speed')"
      ]
     },
     "execution_count": 39,
     "metadata": {},
     "output_type": "execute_result"
    },
    {
     "data": {
      "image/png": "[encoded data removed]",
      "text/plain": [
       "<Figure size 432x288 with 1 Axes>"
      ]
     },
     "metadata": {
      "needs_background": "light"
     },
     "output_type": "display_data"
    }
   ],
   "source": [
    "# Wind Speed (mph) vs. Latitude\n",
    "plt.scatter(cities_df['Latitude'], cities_df['Wind Speed'])\n",
    "plt.xlabel('Latitude')\n",
    "plt.ylabel('Wind Speed')"
   ]
  },
  {
   "cell_type": "code",
   "execution_count": null,
   "id": "94b80507",
   "metadata": {},
   "outputs": [],
   "source": []
  }
 ],
 "metadata": {
  "kernelspec": {
   "display_name": "Python 3",
   "language": "python",
   "name": "python3"
  },
  "language_info": {
   "codemirror_mode": {
    "name": "ipython",
    "version": 3
   },
   "file_extension": ".py",
   "mimetype": "text/x-python",
   "name": "python",
   "nbconvert_exporter": "python",
   "pygments_lexer": "ipython3",
   "version": "3.8.5"
  }
 },
 "nbformat": 4,
 "nbformat_minor": 5
}
