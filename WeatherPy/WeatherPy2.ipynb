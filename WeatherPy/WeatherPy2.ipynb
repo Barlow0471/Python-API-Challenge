{
 "cells": [
  {
   "cell_type": "code",
   "execution_count": 11,
   "id": "3773100c",
   "metadata": {},
   "outputs": [],
   "source": [
    "# Dependencies and Setup\n",
    "import matplotlib.pyplot as plt\n",
    "import pandas as pd\n",
    "import numpy as np\n",
    "import requests\n",
    "import time\n",
    "from scipy.stats import linregress\n",
    "import pprint as pprint\n",
    "\n",
    "# Import API key\n",
    "from api_keys import weather_api_key\n",
    "\n",
    "# Incorporated citipy to determine city based on latitude and longitude\n",
    "from citipy import citipy\n",
    "\n",
    "# Output File (CSV)\n",
    "output_data_file = \"output_data/cities.csv\"\n",
    "\n",
    "# Range of latitudes and longitudes\n",
    "lat_range = (-90, 90)\n",
    "lng_range = (-180, 180) "
   ]
  },
  {
   "cell_type": "code",
   "execution_count": 17,
   "id": "8e38d173",
   "metadata": {},
   "outputs": [
    {
     "name": "stdout",
     "output_type": "stream",
     "text": [
      "['washington', 'barrow', 'leningradskiy', 'tuktoyaktuk', 'albany', 'kimbe', 'el prat de llobregat', 'lebu', 'airai', 'sao joao de pirabas']\n"
     ]
    }
   ],
   "source": [
    "# List for holding lat_lngs and cities\n",
    "lat_lngs = []\n",
    "cities = []\n",
    "\n",
    "# Create a set of random lat and lng combinations\n",
    "lats = np.random.uniform(lat_range[0], lat_range[1], size=10)\n",
    "lngs = np.random.uniform(lng_range[0], lng_range[1], size=10)\n",
    "lat_lngs = zip(lats, lngs)\n",
    "\n",
    "# Identify nearest city for each lat, lng combination\n",
    "for lat_lng in lat_lngs:\n",
    "    city = citipy.nearest_city(lat_lng[0], lat_lng[1]).city_name\n",
    "    \n",
    "    # If the city is unique, then add it to a our cities list\n",
    "    if city not in cities:\n",
    "        cities.append(city)\n",
    "\n",
    "# Print the city count to confirm sufficient count\n",
    "len(cities)\n",
    "print(cities)"
   ]
  },
  {
   "cell_type": "code",
   "execution_count": 22,
   "id": "4c64886d",
   "metadata": {},
   "outputs": [
    {
     "name": "stdout",
     "output_type": "stream",
     "text": [
      "The temperature in washington is [74.35, 42.82, 35.89, 48.2, 81.79, 74.77, 82.9, 49.17, 56.59, 86.34] F.\n",
      "The temperature in barrow is [74.35, 42.82, 35.89, 48.2, 81.79, 74.77, 82.9, 49.17, 56.59, 86.34] F.\n",
      "The temperature in leningradskiy is [74.35, 42.82, 35.89, 48.2, 81.79, 74.77, 82.9, 49.17, 56.59, 86.34] F.\n",
      "The temperature in tuktoyaktuk is [74.35, 42.82, 35.89, 48.2, 81.79, 74.77, 82.9, 49.17, 56.59, 86.34] F.\n",
      "The temperature in albany is [74.35, 42.82, 35.89, 48.2, 81.79, 74.77, 82.9, 49.17, 56.59, 86.34] F.\n",
      "The temperature in kimbe is [74.35, 42.82, 35.89, 48.2, 81.79, 74.77, 82.9, 49.17, 56.59, 86.34] F.\n",
      "The temperature in el prat de llobregat is [74.35, 42.82, 35.89, 48.2, 81.79, 74.77, 82.9, 49.17, 56.59, 86.34] F.\n",
      "The temperature in lebu is [74.35, 42.82, 35.89, 48.2, 81.79, 74.77, 82.9, 49.17, 56.59, 86.34] F.\n",
      "The temperature in airai is [74.35, 42.82, 35.89, 48.2, 81.79, 74.77, 82.9, 49.17, 56.59, 86.34] F.\n",
      "The temperature in sao joao de pirabas is [74.35, 42.82, 35.89, 48.2, 81.79, 74.77, 82.9, 49.17, 56.59, 86.34] F.\n"
     ]
    }
   ],
   "source": [
    "# Save config info\n",
    "url = \"http://api.openweathermap.org/data/2.5/weather?\"\n",
    "units = \"imperial\"\n",
    "\n",
    "# Build query url and request results\n",
    "query_url = f\"{url}appid={weather_api_key}&units={units}&q=\" \n",
    "# Set temperature from response\n",
    "max_temp = []\n",
    "humidity = []\n",
    "cloudiness = []\n",
    "wind_speed = []\n",
    "date = []\n",
    "country =[]\n",
    "# Create for loop for temperatures in city list\n",
    "for city in cities:\n",
    "    try:      \n",
    "        response = requests.get(query_url + city).json()\n",
    "        max_temp.append(response['main']['temp_max'])\n",
    "        humidity.append(response['main']['humidity'])\n",
    "        cloudiness.append(response['clouds']['all'])\n",
    "        wind_speed.append(response['wind']['speed'])\n",
    "        country.append(response['sys']['country'])\n",
    "        date.append(response['dt'])\n",
    "        print(f\"The temperature in {city} is {temp} F.\")\n",
    "        \n",
    "    except:\n",
    "        print('City not found')\n",
    "        pass\n"
   ]
  },
  {
   "cell_type": "code",
   "execution_count": 24,
   "id": "da3a66c5",
   "metadata": {},
   "outputs": [
    {
     "data": {
      "text/html": [
       "<div>\n",
       "<style scoped>\n",
       "    .dataframe tbody tr th:only-of-type {\n",
       "        vertical-align: middle;\n",
       "    }\n",
       "\n",
       "    .dataframe tbody tr th {\n",
       "        vertical-align: top;\n",
       "    }\n",
       "\n",
       "    .dataframe thead th {\n",
       "        text-align: right;\n",
       "    }\n",
       "</style>\n",
       "<table border=\"1\" class=\"dataframe\">\n",
       "  <thead>\n",
       "    <tr style=\"text-align: right;\">\n",
       "      <th></th>\n",
       "      <th>Cities</th>\n",
       "      <th>Latitude</th>\n",
       "      <th>Longitude</th>\n",
       "      <th>Max Temperature</th>\n",
       "      <th>Humidity</th>\n",
       "      <th>Cloudiness</th>\n",
       "      <th>Wind Speed</th>\n",
       "      <th>Country</th>\n",
       "      <th>Date</th>\n",
       "    </tr>\n",
       "  </thead>\n",
       "  <tbody>\n",
       "    <tr>\n",
       "      <th>0</th>\n",
       "      <td>washington</td>\n",
       "      <td>38.612744</td>\n",
       "      <td>-91.068242</td>\n",
       "      <td>73.89</td>\n",
       "      <td>26</td>\n",
       "      <td>100</td>\n",
       "      <td>3.20</td>\n",
       "      <td>US</td>\n",
       "      <td>1627404624</td>\n",
       "    </tr>\n",
       "    <tr>\n",
       "      <th>1</th>\n",
       "      <td>barrow</td>\n",
       "      <td>83.497291</td>\n",
       "      <td>-156.870956</td>\n",
       "      <td>42.82</td>\n",
       "      <td>93</td>\n",
       "      <td>90</td>\n",
       "      <td>9.22</td>\n",
       "      <td>US</td>\n",
       "      <td>1627404624</td>\n",
       "    </tr>\n",
       "    <tr>\n",
       "      <th>2</th>\n",
       "      <td>leningradskiy</td>\n",
       "      <td>85.179396</td>\n",
       "      <td>178.633670</td>\n",
       "      <td>35.89</td>\n",
       "      <td>98</td>\n",
       "      <td>100</td>\n",
       "      <td>4.72</td>\n",
       "      <td>RU</td>\n",
       "      <td>1627404624</td>\n",
       "    </tr>\n",
       "    <tr>\n",
       "      <th>3</th>\n",
       "      <td>tuktoyaktuk</td>\n",
       "      <td>87.348126</td>\n",
       "      <td>-133.156524</td>\n",
       "      <td>48.20</td>\n",
       "      <td>87</td>\n",
       "      <td>90</td>\n",
       "      <td>8.05</td>\n",
       "      <td>CA</td>\n",
       "      <td>1627404625</td>\n",
       "    </tr>\n",
       "    <tr>\n",
       "      <th>4</th>\n",
       "      <td>albany</td>\n",
       "      <td>-80.791137</td>\n",
       "      <td>120.641077</td>\n",
       "      <td>86.61</td>\n",
       "      <td>58</td>\n",
       "      <td>9</td>\n",
       "      <td>1.01</td>\n",
       "      <td>US</td>\n",
       "      <td>1627404620</td>\n",
       "    </tr>\n",
       "    <tr>\n",
       "      <th>5</th>\n",
       "      <td>kimbe</td>\n",
       "      <td>-5.632325</td>\n",
       "      <td>149.685599</td>\n",
       "      <td>74.77</td>\n",
       "      <td>92</td>\n",
       "      <td>30</td>\n",
       "      <td>3.13</td>\n",
       "      <td>PG</td>\n",
       "      <td>1627404625</td>\n",
       "    </tr>\n",
       "    <tr>\n",
       "      <th>6</th>\n",
       "      <td>el prat de llobregat</td>\n",
       "      <td>40.834283</td>\n",
       "      <td>2.386207</td>\n",
       "      <td>90.77</td>\n",
       "      <td>69</td>\n",
       "      <td>0</td>\n",
       "      <td>14.97</td>\n",
       "      <td>ES</td>\n",
       "      <td>1627404626</td>\n",
       "    </tr>\n",
       "    <tr>\n",
       "      <th>7</th>\n",
       "      <td>lebu</td>\n",
       "      <td>-36.478361</td>\n",
       "      <td>-102.968161</td>\n",
       "      <td>49.17</td>\n",
       "      <td>65</td>\n",
       "      <td>1</td>\n",
       "      <td>23.20</td>\n",
       "      <td>CL</td>\n",
       "      <td>1627404626</td>\n",
       "    </tr>\n",
       "    <tr>\n",
       "      <th>8</th>\n",
       "      <td>airai</td>\n",
       "      <td>7.496703</td>\n",
       "      <td>141.041157</td>\n",
       "      <td>56.59</td>\n",
       "      <td>79</td>\n",
       "      <td>29</td>\n",
       "      <td>3.00</td>\n",
       "      <td>TL</td>\n",
       "      <td>1627404626</td>\n",
       "    </tr>\n",
       "    <tr>\n",
       "      <th>9</th>\n",
       "      <td>sao joao de pirabas</td>\n",
       "      <td>-0.507611</td>\n",
       "      <td>-47.062460</td>\n",
       "      <td>86.34</td>\n",
       "      <td>60</td>\n",
       "      <td>45</td>\n",
       "      <td>8.95</td>\n",
       "      <td>BR</td>\n",
       "      <td>1627404627</td>\n",
       "    </tr>\n",
       "  </tbody>\n",
       "</table>\n",
       "</div>"
      ],
      "text/plain": [
       "                 Cities   Latitude   Longitude  Max Temperature  Humidity  \\\n",
       "0            washington  38.612744  -91.068242            73.89        26   \n",
       "1                barrow  83.497291 -156.870956            42.82        93   \n",
       "2         leningradskiy  85.179396  178.633670            35.89        98   \n",
       "3           tuktoyaktuk  87.348126 -133.156524            48.20        87   \n",
       "4                albany -80.791137  120.641077            86.61        58   \n",
       "5                 kimbe  -5.632325  149.685599            74.77        92   \n",
       "6  el prat de llobregat  40.834283    2.386207            90.77        69   \n",
       "7                  lebu -36.478361 -102.968161            49.17        65   \n",
       "8                 airai   7.496703  141.041157            56.59        79   \n",
       "9   sao joao de pirabas  -0.507611  -47.062460            86.34        60   \n",
       "\n",
       "   Cloudiness  Wind Speed Country        Date  \n",
       "0         100        3.20      US  1627404624  \n",
       "1          90        9.22      US  1627404624  \n",
       "2         100        4.72      RU  1627404624  \n",
       "3          90        8.05      CA  1627404625  \n",
       "4           9        1.01      US  1627404620  \n",
       "5          30        3.13      PG  1627404625  \n",
       "6           0       14.97      ES  1627404626  \n",
       "7           1       23.20      CL  1627404626  \n",
       "8          29        3.00      TL  1627404626  \n",
       "9          45        8.95      BR  1627404627  "
      ]
     },
     "execution_count": 24,
     "metadata": {},
     "output_type": "execute_result"
    }
   ],
   "source": [
    "cities_df = pd.DataFrame({'Cities': cities, 'Latitude': lats, 'Longitude': lngs, 'Max Temperature': max_temp, 'Humidity': humidity, 'Cloudiness': cloudiness, 'Wind Speed': wind_speed, 'Country': country, 'Date': date})\n",
    "cities_df"
   ]
  },
  {
   "cell_type": "code",
   "execution_count": 20,
   "id": "77a0dbd3",
   "metadata": {},
   "outputs": [],
   "source": [
    "cities_df.to_csv(\"../cities_output_student.csv\", encoding=\"utf-8\", index=False) "
   ]
  },
  {
   "cell_type": "code",
   "execution_count": 36,
   "id": "536f912b",
   "metadata": {},
   "outputs": [
    {
     "data": {
      "image/png": "[encoded data removed]",
      "text/plain": [
       "<Figure size 432x288 with 1 Axes>"
      ]
     },
     "metadata": {
      "needs_background": "light"
     },
     "output_type": "display_data"
    }
   ],
   "source": [
    "# Temperature (F) vs. Latitude\n",
    "plt.scatter(cities_df['Latitude'], cities_df['Max Temperature'])\n",
    "plt.xlabel('Latitude')\n",
    "plt.ylabel('Temperature (F)')\n",
    "plt.title('Temperature (F) vs. Latitude')\n",
    "plt.savefig(\"Temperature.png\")"
   ]
  },
  {
   "cell_type": "code",
   "execution_count": 35,
   "id": "83816b53",
   "metadata": {},
   "outputs": [
    {
     "data": {
      "image/png": "[encoded data removed]",
      "text/plain": [
       "<Figure size 432x288 with 1 Axes>"
      ]
     },
     "metadata": {
      "needs_background": "light"
     },
     "output_type": "display_data"
    }
   ],
   "source": [
    "# Humidity (%) vs Latitude\n",
    "plt.scatter(cities_df['Latitude'], cities_df['Humidity'])\n",
    "plt.xlabel('Latitude')\n",
    "plt.ylabel('Humidity (%)')\n",
    "plt.title('Humidity (%) vs. Latitude')\n",
    "plt.savefig(\"Humidity.png\")"
   ]
  },
  {
   "cell_type": "code",
   "execution_count": 34,
   "id": "882bd428",
   "metadata": {},
   "outputs": [
    {
     "data": {
      "image/png": "[encoded data removed]",
      "text/plain": [
       "<Figure size 432x288 with 1 Axes>"
      ]
     },
     "metadata": {
      "needs_background": "light"
     },
     "output_type": "display_data"
    }
   ],
   "source": [
    "# Cloudiness (%) vs Latitude\n",
    "plt.scatter(cities_df['Latitude'], cities_df['Cloudiness'])\n",
    "plt.xlabel('Latitude')\n",
    "plt.ylabel('Cloudiness (%)')\n",
    "plt.title('Cloudiness (%) vs. Latitude')\n",
    "plt.savefig(\"Cloudiness.png\")"
   ]
  },
  {
   "cell_type": "code",
   "execution_count": 33,
   "id": "1c0edec8",
   "metadata": {},
   "outputs": [
    {
     "data": {
      "image/png": "[encoded data removed]",
      "text/plain": [
       "<Figure size 432x288 with 1 Axes>"
      ]
     },
     "metadata": {
      "needs_background": "light"
     },
     "output_type": "display_data"
    }
   ],
   "source": [
    "# Wind Speed (mph) vs. Latitude\n",
    "plt.scatter(cities_df['Latitude'], cities_df['Wind Speed'])\n",
    "plt.xlabel('Latitude')\n",
    "plt.ylabel('Wind Speed (mph)')\n",
    "plt.title('Wind Speed (mph) vs. Latitude')\n",
    "plt.savefig(\"Wind Speed.png\")"
   ]
  },
  {
   "cell_type": "code",
   "execution_count": 38,
   "id": "1a351712",
   "metadata": {},
   "outputs": [
    {
     "data": {
      "text/html": [
       "<div>\n",
       "<style scoped>\n",
       "    .dataframe tbody tr th:only-of-type {\n",
       "        vertical-align: middle;\n",
       "    }\n",
       "\n",
       "    .dataframe tbody tr th {\n",
       "        vertical-align: top;\n",
       "    }\n",
       "\n",
       "    .dataframe thead th {\n",
       "        text-align: right;\n",
       "    }\n",
       "</style>\n",
       "<table border=\"1\" class=\"dataframe\">\n",
       "  <thead>\n",
       "    <tr style=\"text-align: right;\">\n",
       "      <th></th>\n",
       "      <th>Cities</th>\n",
       "      <th>Latitude</th>\n",
       "      <th>Longitude</th>\n",
       "      <th>Max Temperature</th>\n",
       "      <th>Humidity</th>\n",
       "      <th>Cloudiness</th>\n",
       "      <th>Wind Speed</th>\n",
       "      <th>Country</th>\n",
       "      <th>Date</th>\n",
       "    </tr>\n",
       "  </thead>\n",
       "  <tbody>\n",
       "    <tr>\n",
       "      <th>4</th>\n",
       "      <td>albany</td>\n",
       "      <td>-80.791137</td>\n",
       "      <td>120.641077</td>\n",
       "      <td>86.61</td>\n",
       "      <td>58</td>\n",
       "      <td>9</td>\n",
       "      <td>1.01</td>\n",
       "      <td>US</td>\n",
       "      <td>1627404620</td>\n",
       "    </tr>\n",
       "    <tr>\n",
       "      <th>5</th>\n",
       "      <td>kimbe</td>\n",
       "      <td>-5.632325</td>\n",
       "      <td>149.685599</td>\n",
       "      <td>74.77</td>\n",
       "      <td>92</td>\n",
       "      <td>30</td>\n",
       "      <td>3.13</td>\n",
       "      <td>PG</td>\n",
       "      <td>1627404625</td>\n",
       "    </tr>\n",
       "    <tr>\n",
       "      <th>7</th>\n",
       "      <td>lebu</td>\n",
       "      <td>-36.478361</td>\n",
       "      <td>-102.968161</td>\n",
       "      <td>49.17</td>\n",
       "      <td>65</td>\n",
       "      <td>1</td>\n",
       "      <td>23.20</td>\n",
       "      <td>CL</td>\n",
       "      <td>1627404626</td>\n",
       "    </tr>\n",
       "    <tr>\n",
       "      <th>9</th>\n",
       "      <td>sao joao de pirabas</td>\n",
       "      <td>-0.507611</td>\n",
       "      <td>-47.062460</td>\n",
       "      <td>86.34</td>\n",
       "      <td>60</td>\n",
       "      <td>45</td>\n",
       "      <td>8.95</td>\n",
       "      <td>BR</td>\n",
       "      <td>1627404627</td>\n",
       "    </tr>\n",
       "  </tbody>\n",
       "</table>\n",
       "</div>"
      ],
      "text/plain": [
       "                Cities   Latitude   Longitude  Max Temperature  Humidity  \\\n",
       "4               albany -80.791137  120.641077            86.61        58   \n",
       "5                kimbe  -5.632325  149.685599            74.77        92   \n",
       "7                 lebu -36.478361 -102.968161            49.17        65   \n",
       "9  sao joao de pirabas  -0.507611  -47.062460            86.34        60   \n",
       "\n",
       "   Cloudiness  Wind Speed Country        Date  \n",
       "4           9        1.01      US  1627404620  \n",
       "5          30        3.13      PG  1627404625  \n",
       "7           1       23.20      CL  1627404626  \n",
       "9          45        8.95      BR  1627404627  "
      ]
     },
     "execution_count": 38,
     "metadata": {},
     "output_type": "execute_result"
    }
   ],
   "source": [
    "# # Create Northern Hemisphere dataframe\n",
    "northern_hem_df = cities_df.loc[cities_df['Latitude'].astype(float) < 0, :]\n",
    "northern_hem_df"
   ]
  },
  {
   "cell_type": "code",
   "execution_count": 39,
   "id": "7a2d04c3",
   "metadata": {},
   "outputs": [
    {
     "data": {
      "text/html": [
       "<div>\n",
       "<style scoped>\n",
       "    .dataframe tbody tr th:only-of-type {\n",
       "        vertical-align: middle;\n",
       "    }\n",
       "\n",
       "    .dataframe tbody tr th {\n",
       "        vertical-align: top;\n",
       "    }\n",
       "\n",
       "    .dataframe thead th {\n",
       "        text-align: right;\n",
       "    }\n",
       "</style>\n",
       "<table border=\"1\" class=\"dataframe\">\n",
       "  <thead>\n",
       "    <tr style=\"text-align: right;\">\n",
       "      <th></th>\n",
       "      <th>Cities</th>\n",
       "      <th>Latitude</th>\n",
       "      <th>Longitude</th>\n",
       "      <th>Max Temperature</th>\n",
       "      <th>Humidity</th>\n",
       "      <th>Cloudiness</th>\n",
       "      <th>Wind Speed</th>\n",
       "      <th>Country</th>\n",
       "      <th>Date</th>\n",
       "    </tr>\n",
       "  </thead>\n",
       "  <tbody>\n",
       "    <tr>\n",
       "      <th>0</th>\n",
       "      <td>washington</td>\n",
       "      <td>38.612744</td>\n",
       "      <td>-91.068242</td>\n",
       "      <td>73.89</td>\n",
       "      <td>26</td>\n",
       "      <td>100</td>\n",
       "      <td>3.20</td>\n",
       "      <td>US</td>\n",
       "      <td>1627404624</td>\n",
       "    </tr>\n",
       "    <tr>\n",
       "      <th>1</th>\n",
       "      <td>barrow</td>\n",
       "      <td>83.497291</td>\n",
       "      <td>-156.870956</td>\n",
       "      <td>42.82</td>\n",
       "      <td>93</td>\n",
       "      <td>90</td>\n",
       "      <td>9.22</td>\n",
       "      <td>US</td>\n",
       "      <td>1627404624</td>\n",
       "    </tr>\n",
       "    <tr>\n",
       "      <th>2</th>\n",
       "      <td>leningradskiy</td>\n",
       "      <td>85.179396</td>\n",
       "      <td>178.633670</td>\n",
       "      <td>35.89</td>\n",
       "      <td>98</td>\n",
       "      <td>100</td>\n",
       "      <td>4.72</td>\n",
       "      <td>RU</td>\n",
       "      <td>1627404624</td>\n",
       "    </tr>\n",
       "    <tr>\n",
       "      <th>3</th>\n",
       "      <td>tuktoyaktuk</td>\n",
       "      <td>87.348126</td>\n",
       "      <td>-133.156524</td>\n",
       "      <td>48.20</td>\n",
       "      <td>87</td>\n",
       "      <td>90</td>\n",
       "      <td>8.05</td>\n",
       "      <td>CA</td>\n",
       "      <td>1627404625</td>\n",
       "    </tr>\n",
       "    <tr>\n",
       "      <th>6</th>\n",
       "      <td>el prat de llobregat</td>\n",
       "      <td>40.834283</td>\n",
       "      <td>2.386207</td>\n",
       "      <td>90.77</td>\n",
       "      <td>69</td>\n",
       "      <td>0</td>\n",
       "      <td>14.97</td>\n",
       "      <td>ES</td>\n",
       "      <td>1627404626</td>\n",
       "    </tr>\n",
       "    <tr>\n",
       "      <th>8</th>\n",
       "      <td>airai</td>\n",
       "      <td>7.496703</td>\n",
       "      <td>141.041157</td>\n",
       "      <td>56.59</td>\n",
       "      <td>79</td>\n",
       "      <td>29</td>\n",
       "      <td>3.00</td>\n",
       "      <td>TL</td>\n",
       "      <td>1627404626</td>\n",
       "    </tr>\n",
       "  </tbody>\n",
       "</table>\n",
       "</div>"
      ],
      "text/plain": [
       "                 Cities   Latitude   Longitude  Max Temperature  Humidity  \\\n",
       "0            washington  38.612744  -91.068242            73.89        26   \n",
       "1                barrow  83.497291 -156.870956            42.82        93   \n",
       "2         leningradskiy  85.179396  178.633670            35.89        98   \n",
       "3           tuktoyaktuk  87.348126 -133.156524            48.20        87   \n",
       "6  el prat de llobregat  40.834283    2.386207            90.77        69   \n",
       "8                 airai   7.496703  141.041157            56.59        79   \n",
       "\n",
       "   Cloudiness  Wind Speed Country        Date  \n",
       "0         100        3.20      US  1627404624  \n",
       "1          90        9.22      US  1627404624  \n",
       "2         100        4.72      RU  1627404624  \n",
       "3          90        8.05      CA  1627404625  \n",
       "6           0       14.97      ES  1627404626  \n",
       "8          29        3.00      TL  1627404626  "
      ]
     },
     "execution_count": 39,
     "metadata": {},
     "output_type": "execute_result"
    }
   ],
   "source": [
    "# Create Southern Hemisphere dataframe\n",
    "southern_hem_df = cities_df.loc[cities_df['Latitude'].astype(float) > 0, :]\n",
    "southern_hem_df"
   ]
  },
  {
   "cell_type": "code",
   "execution_count": 68,
   "id": "a31b8416",
   "metadata": {},
   "outputs": [
    {
     "data": {
      "text/plain": [
       "Text(0.5, 1.0, 'Northern Hemisphere Max Temperature (F) vs Latitude')"
      ]
     },
     "execution_count": 68,
     "metadata": {},
     "output_type": "execute_result"
    },
    {
     "data": {
      "image/png": "[encoded data removed]",
      "text/plain": [
       "<Figure size 432x288 with 1 Axes>"
      ]
     },
     "metadata": {
      "needs_background": "light"
     },
     "output_type": "display_data"
    }
   ],
   "source": [
    "# Northern Hemisphere Max Temp vs. Latitude Linear Regression\n",
    "x_values = northern_hem_df['Latitude'].astype(float)\n",
    "y_values = northern_hem_df['Max Temperature'].astype(float)\n",
    "(slope, intercept, rvalue, pvalue, stderr) = linregress(x_values, y_values)\n",
    "regress_values = x_values * slope + intercept\n",
    "line_eq = \"y =\" + str(round(slope,2)) + \"x + \" + str(round(intercept,2))\n",
    "plt.scatter(x_values,y_values)\n",
    "plt.plot(x_values,regress_values, 'r-')\n",
    "plt.xlabel('Latitude')\n",
    "plt.ylabel('Max Temperature (F)')\n",
    "plt.title('Northern Hemisphere Max Temperature (F) vs Latitude')"
   ]
  },
  {
   "cell_type": "code",
   "execution_count": 67,
   "id": "6f28afb6",
   "metadata": {},
   "outputs": [
    {
     "data": {
      "text/plain": [
       "Text(0.5, 1.0, 'Southern Hemisphere Max Temperature (F) vs Latitude')"
      ]
     },
     "execution_count": 67,
     "metadata": {},
     "output_type": "execute_result"
    },
    {
     "data": {
      "image/png": "[encoded data removed]",
      "text/plain": [
       "<Figure size 432x288 with 1 Axes>"
      ]
     },
     "metadata": {
      "needs_background": "light"
     },
     "output_type": "display_data"
    }
   ],
   "source": [
    "# Southern Hemisphere Max Temp vs. Latitude Linear Regression\n",
    "x_values = southern_hem_df['Latitude'].astype(float)\n",
    "y_values = southern_hem_df['Max Temperature'].astype(float)\n",
    "(slope, intercept, rvalue, pvalue, stderr) = linregress(x_values, y_values)\n",
    "regress_values = x_values * slope + intercept\n",
    "line_eq = \"y =\" + str(round(slope,2)) + \"x + \" + str(round(intercept,2))\n",
    "plt.scatter(x_values,y_values)\n",
    "plt.plot(x_values,regress_values, 'r-')\n",
    "plt.xlabel('Latitude')\n",
    "plt.ylabel('Max Temperature (F)')\n",
    "plt.title('Southern Hemisphere Max Temperature (F) vs Latitude')"
   ]
  },
  {
   "cell_type": "code",
   "execution_count": 66,
   "id": "c2149ef1",
   "metadata": {},
   "outputs": [
    {
     "data": {
      "text/plain": [
       "Text(0.5, 1.0, 'Northern Hemisphere Humidity (%) vs Latitude')"
      ]
     },
     "execution_count": 66,
     "metadata": {},
     "output_type": "execute_result"
    },
    {
     "data": {
      "image/png": "[encoded data removed]",
      "text/plain": [
       "<Figure size 432x288 with 1 Axes>"
      ]
     },
     "metadata": {
      "needs_background": "light"
     },
     "output_type": "display_data"
    }
   ],
   "source": [
    "# Northern Hemisphere Humidity vs. Latitude Linear Regression\n",
    "x_values = northern_hem_df['Latitude'].astype(float)\n",
    "y_values = northern_hem_df['Humidity'].astype(float)\n",
    "(slope, intercept, rvalue, pvalue, stderr) = linregress(x_values, y_values)\n",
    "regress_values = x_values * slope + intercept\n",
    "line_eq = \"y =\" + str(round(slope,2)) + \"x + \" + str(round(intercept,2))\n",
    "plt.scatter(x_values,y_values)\n",
    "plt.plot(x_values,regress_values, 'r-')\n",
    "plt.xlabel('Latitude')\n",
    "plt.ylabel('Humidity (%)')\n",
    "plt.title('Northern Hemisphere Humidity (%) vs Latitude')"
   ]
  },
  {
   "cell_type": "code",
   "execution_count": 65,
   "id": "d457fb18",
   "metadata": {},
   "outputs": [
    {
     "data": {
      "text/plain": [
       "Text(0.5, 1.0, 'Southern Hemisphere Humidity (%) vs Latitude')"
      ]
     },
     "execution_count": 65,
     "metadata": {},
     "output_type": "execute_result"
    },
    {
     "data": {
      "image/png": "[encoded data removed]",
      "text/plain": [
       "<Figure size 432x288 with 1 Axes>"
      ]
     },
     "metadata": {
      "needs_background": "light"
     },
     "output_type": "display_data"
    }
   ],
   "source": [
    "# Southern Hemisphere Humidity vs. Latitude Linear Regression\n",
    "x_values = southern_hem_df['Latitude'].astype(float)\n",
    "y_values = southern_hem_df['Humidity'].astype(float)\n",
    "(slope, intercept, rvalue, pvalue, stderr) = linregress(x_values, y_values)\n",
    "regress_values = x_values * slope + intercept\n",
    "line_eq = \"y =\" + str(round(slope,2)) + \"x + \" + str(round(intercept,2))\n",
    "plt.scatter(x_values,y_values)\n",
    "plt.plot(x_values,regress_values, 'r-')\n",
    "plt.xlabel('Latitude')\n",
    "plt.ylabel('Humidity (%)')\n",
    "plt.title('Southern Hemisphere Humidity (%) vs Latitude')"
   ]
  },
  {
   "cell_type": "code",
   "execution_count": 64,
   "id": "bea1f5f8",
   "metadata": {},
   "outputs": [
    {
     "data": {
      "text/plain": [
       "Text(0.5, 1.0, 'Northern Hemisphere Cloudiness (%) vs Latitude')"
      ]
     },
     "execution_count": 64,
     "metadata": {},
     "output_type": "execute_result"
    },
    {
     "data": {
      "image/png": "[encoded data removed]",
      "text/plain": [
       "<Figure size 432x288 with 1 Axes>"
      ]
     },
     "metadata": {
      "needs_background": "light"
     },
     "output_type": "display_data"
    }
   ],
   "source": [
    "# Northern Hemisphere Cloudiness vs. Latitude Linear Regression\n",
    "x_values = northern_hem_df['Latitude'].astype(float)\n",
    "y_values = northern_hem_df['Cloudiness'].astype(float)\n",
    "(slope, intercept, rvalue, pvalue, stderr) = linregress(x_values, y_values)\n",
    "regress_values = x_values * slope + intercept\n",
    "line_eq = \"y =\" + str(round(slope,2)) + \"x + \" + str(round(intercept,2))\n",
    "plt.scatter(x_values,y_values)\n",
    "plt.plot(x_values,regress_values, 'r-')\n",
    "plt.xlabel('Latitude')\n",
    "plt.ylabel('Cloudiness (%)')\n",
    "plt.title('Northern Hemisphere Cloudiness (%) vs Latitude')"
   ]
  },
  {
   "cell_type": "code",
   "execution_count": 63,
   "id": "47b5c6bb",
   "metadata": {},
   "outputs": [
    {
     "data": {
      "text/plain": [
       "Text(0.5, 1.0, 'Southern Hemisphere Cloudiness (%) vs Latitude')"
      ]
     },
     "execution_count": 63,
     "metadata": {},
     "output_type": "execute_result"
    },
    {
     "data": {
      "image/png": "[encoded data removed]",
      "text/plain": [
       "<Figure size 432x288 with 1 Axes>"
      ]
     },
     "metadata": {
      "needs_background": "light"
     },
     "output_type": "display_data"
    }
   ],
   "source": [
    "# Southern Hemisphere Cloudiness vs. Latitude Linear Regression\n",
    "x_values = southern_hem_df['Latitude'].astype(float)\n",
    "y_values = southern_hem_df['Cloudiness'].astype(float)\n",
    "(slope, intercept, rvalue, pvalue, stderr) = linregress(x_values, y_values)\n",
    "regress_values = x_values * slope + intercept\n",
    "line_eq = \"y =\" + str(round(slope,2)) + \"x + \" + str(round(intercept,2))\n",
    "plt.scatter(x_values,y_values)\n",
    "plt.plot(x_values,regress_values, 'r-')\n",
    "plt.xlabel('Latitude')\n",
    "plt.ylabel('Cloudiness (%)')\n",
    "plt.title('Southern Hemisphere Cloudiness (%) vs Latitude')"
   ]
  },
  {
   "cell_type": "code",
   "execution_count": 62,
   "id": "4cf74e63",
   "metadata": {},
   "outputs": [
    {
     "data": {
      "text/plain": [
       "Text(0.5, 1.0, 'Northern Hemisphere Wind Speed (mph) vs Latitude')"
      ]
     },
     "execution_count": 62,
     "metadata": {},
     "output_type": "execute_result"
    },
    {
     "data": {
      "image/png": "[encoded data removed]",
      "text/plain": [
       "<Figure size 432x288 with 1 Axes>"
      ]
     },
     "metadata": {
      "needs_background": "light"
     },
     "output_type": "display_data"
    }
   ],
   "source": [
    "# Northern Hemisphere Wind Speed vs. Latitude Linear Regression\n",
    "x_values = northern_hem_df['Latitude'].astype(float)\n",
    "y_values = northern_hem_df['Wind Speed'].astype(float)\n",
    "(slope, intercept, rvalue, pvalue, stderr) = linregress(x_values, y_values)\n",
    "regress_values = x_values * slope + intercept\n",
    "line_eq = \"y =\" + str(round(slope,2)) + \"x + \" + str(round(intercept,2))\n",
    "plt.scatter(x_values,y_values)\n",
    "plt.plot(x_values,regress_values, 'r-')\n",
    "plt.xlabel('Latitude')\n",
    "plt.ylabel('Wind Speed (mph)')\n",
    "plt.title('Northern Hemisphere Wind Speed (mph) vs Latitude')"
   ]
  },
  {
   "cell_type": "code",
   "execution_count": 60,
   "id": "7dfb503a",
   "metadata": {},
   "outputs": [
    {
     "data": {
      "text/plain": [
       "Text(0.5, 1.0, 'Southern Hemisphere Wind Speed (mph) vs Latitude')"
      ]
     },
     "execution_count": 60,
     "metadata": {},
     "output_type": "execute_result"
    },
    {
     "data": {
      "image/png": "[encoded data removed]",
      "text/plain": [
       "<Figure size 432x288 with 1 Axes>"
      ]
     },
     "metadata": {
      "needs_background": "light"
     },
     "output_type": "display_data"
    }
   ],
   "source": [
    "# Southern Hemisphere Wind Speed vs. Latitude Linear Regression\n",
    "x_values = southern_hem_df['Latitude'].astype(float)\n",
    "y_values = southern_hem_df['Wind Speed'].astype(float)\n",
    "(slope, intercept, rvalue, pvalue, stderr) = linregress(x_values, y_values)\n",
    "regress_values = x_values * slope + intercept\n",
    "line_eq = \"y =\" + str(round(slope,2)) + \"x + \" + str(round(intercept,2))\n",
    "plt.scatter(x_values,y_values)\n",
    "plt.plot(x_values,regress_values, 'r-')\n",
    "plt.xlabel('Latitude')\n",
    "plt.ylabel('Wind Speed (mph)')\n",
    "plt.title('Southern Hemisphere Wind Speed (mph) vs Latitude')"
   ]
  },
  {
   "cell_type": "code",
   "execution_count": null,
   "id": "5fc67adc",
   "metadata": {},
   "outputs": [],
   "source": []
  }
 ],
 "metadata": {
  "kernelspec": {
   "display_name": "Python 3",
   "language": "python",
   "name": "python3"
  },
  "language_info": {
   "codemirror_mode": {
    "name": "ipython",
    "version": 3
   },
   "file_extension": ".py",
   "mimetype": "text/x-python",
   "name": "python",
   "nbconvert_exporter": "python",
   "pygments_lexer": "ipython3",
   "version": "3.8.5"
  }
 },
 "nbformat": 4,
 "nbformat_minor": 5
}
