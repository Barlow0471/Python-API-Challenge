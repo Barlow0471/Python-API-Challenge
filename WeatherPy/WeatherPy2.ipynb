{
 "cells": [
  {
   "cell_type": "code",
   "execution_count": 4,
   "id": "3773100c",
   "metadata": {},
   "outputs": [],
   "source": [
    "# Dependencies and Setup\n",
    "import matplotlib.pyplot as plt\n",
    "import pandas as pd\n",
    "import numpy as np\n",
    "import requests\n",
    "import time\n",
    "from scipy.stats import linregress\n",
    "import pprint as pprint\n",
    "\n",
    "# Import API key\n",
    "from api_keys import weather_api_key\n",
    "\n",
    "# Incorporated citipy to determine city based on latitude and longitude\n",
    "from citipy import citipy\n",
    "\n",
    "# Output File (CSV)\n",
    "output_data_file = \"output_data/cities.csv\"\n",
    "\n",
    "# Range of latitudes and longitudes\n",
    "lat_range = (-90, 90)\n",
    "lng_range = (-180, 180) "
   ]
  },
  {
   "cell_type": "code",
   "execution_count": 9,
   "id": "8e38d173",
   "metadata": {},
   "outputs": [
    {
     "name": "stdout",
     "output_type": "stream",
     "text": [
      "['storforshei', 'chavakkad', 'honiara', 'hobart', 'gainesville', 'svetlogorsk', 'klyuchi', 'thompson', 'rikitea', 'komsomolskiy']\n"
     ]
    }
   ],
   "source": [
    "# List for holding lat_lngs and cities\n",
    "lat_lngs = []\n",
    "cities = []\n",
    "\n",
    "# Create a set of random lat and lng combinations\n",
    "lats = np.random.uniform(lat_range[0], lat_range[1], size=10)\n",
    "lngs = np.random.uniform(lng_range[0], lng_range[1], size=10)\n",
    "lat_lngs = zip(lats, lngs)\n",
    "\n",
    "# Identify nearest city for each lat, lng combination\n",
    "for lat_lng in lat_lngs:\n",
    "    city = citipy.nearest_city(lat_lng[0], lat_lng[1]).city_name\n",
    "    \n",
    "    # If the city is unique, then add it to a our cities list\n",
    "    if city not in cities:\n",
    "        cities.append(city)\n",
    "\n",
    "# Print the city count to confirm sufficient count\n",
    "len(cities)\n",
    "print(cities)"
   ]
  },
  {
   "cell_type": "code",
   "execution_count": 10,
   "id": "4c64886d",
   "metadata": {},
   "outputs": [
    {
     "name": "stdout",
     "output_type": "stream",
     "text": [
      "The temperature in storforshei is [68.77] C.\n",
      "The temperature in chavakkad is [68.77, 77.07] C.\n",
      "The temperature in honiara is [68.77, 77.07, 75.6] C.\n",
      "The temperature in hobart is [68.77, 77.07, 75.6, 51.08] C.\n",
      "The temperature in gainesville is [68.77, 77.07, 75.6, 51.08, 88.52] C.\n",
      "The temperature in svetlogorsk is [68.77, 77.07, 75.6, 51.08, 88.52, 66.9] C.\n",
      "The temperature in klyuchi is [68.77, 77.07, 75.6, 51.08, 88.52, 66.9, 59.25] C.\n",
      "The temperature in thompson is [68.77, 77.07, 75.6, 51.08, 88.52, 66.9, 59.25, 69.96] C.\n",
      "The temperature in rikitea is [68.77, 77.07, 75.6, 51.08, 88.52, 66.9, 59.25, 69.96, 73.85] C.\n",
      "The temperature in komsomolskiy is [68.77, 77.07, 75.6, 51.08, 88.52, 66.9, 59.25, 69.96, 73.85, 84.88] C.\n"
     ]
    }
   ],
   "source": [
    "# Save config info\n",
    "url = \"http://api.openweathermap.org/data/2.5/weather?\"\n",
    "units = \"imperial\"\n",
    "\n",
    "# Build query url and request results\n",
    "query_url = f\"{url}appid={weather_api_key}&units={units}&q=\" \n",
    "# Set temperature from response\n",
    "temp = []\n",
    "humidity = []\n",
    "cloudiness = []\n",
    "wind_speed = []\n",
    "# Create for loop for temperatures in city list\n",
    "for city in cities:    \n",
    "    response = requests.get(query_url + city).json()\n",
    "    temp.append(response['main']['temp'])\n",
    "    humidity.append(response['main']['humidity'])\n",
    "    cloudiness.append(response['clouds']['all'])\n",
    "    wind_speed.append(response['wind']['speed'])\n",
    "    print(f\"The temperature in {city} is {temp} C.\")\n"
   ]
  },
  {
   "cell_type": "code",
   "execution_count": 11,
   "id": "da3a66c5",
   "metadata": {},
   "outputs": [
    {
     "data": {
      "text/html": [
       "<div>\n",
       "<style scoped>\n",
       "    .dataframe tbody tr th:only-of-type {\n",
       "        vertical-align: middle;\n",
       "    }\n",
       "\n",
       "    .dataframe tbody tr th {\n",
       "        vertical-align: top;\n",
       "    }\n",
       "\n",
       "    .dataframe thead th {\n",
       "        text-align: right;\n",
       "    }\n",
       "</style>\n",
       "<table border=\"1\" class=\"dataframe\">\n",
       "  <thead>\n",
       "    <tr style=\"text-align: right;\">\n",
       "      <th></th>\n",
       "      <th>Cities</th>\n",
       "      <th>Latitude</th>\n",
       "      <th>Longitude</th>\n",
       "      <th>Temperature</th>\n",
       "      <th>Humidity</th>\n",
       "      <th>Cloudiness</th>\n",
       "      <th>Wind Speed</th>\n",
       "    </tr>\n",
       "  </thead>\n",
       "  <tbody>\n",
       "    <tr>\n",
       "      <th>0</th>\n",
       "      <td>storforshei</td>\n",
       "      <td>65.222851</td>\n",
       "      <td>14.873092</td>\n",
       "      <td>68.77</td>\n",
       "      <td>68</td>\n",
       "      <td>20</td>\n",
       "      <td>2.30</td>\n",
       "    </tr>\n",
       "    <tr>\n",
       "      <th>1</th>\n",
       "      <td>chavakkad</td>\n",
       "      <td>10.469536</td>\n",
       "      <td>75.849012</td>\n",
       "      <td>77.07</td>\n",
       "      <td>87</td>\n",
       "      <td>100</td>\n",
       "      <td>4.99</td>\n",
       "    </tr>\n",
       "    <tr>\n",
       "      <th>2</th>\n",
       "      <td>honiara</td>\n",
       "      <td>-12.574210</td>\n",
       "      <td>159.207230</td>\n",
       "      <td>75.60</td>\n",
       "      <td>90</td>\n",
       "      <td>100</td>\n",
       "      <td>7.63</td>\n",
       "    </tr>\n",
       "    <tr>\n",
       "      <th>3</th>\n",
       "      <td>hobart</td>\n",
       "      <td>-73.334280</td>\n",
       "      <td>145.878502</td>\n",
       "      <td>51.08</td>\n",
       "      <td>87</td>\n",
       "      <td>75</td>\n",
       "      <td>1.99</td>\n",
       "    </tr>\n",
       "    <tr>\n",
       "      <th>4</th>\n",
       "      <td>gainesville</td>\n",
       "      <td>29.279063</td>\n",
       "      <td>-83.062082</td>\n",
       "      <td>88.52</td>\n",
       "      <td>67</td>\n",
       "      <td>90</td>\n",
       "      <td>8.05</td>\n",
       "    </tr>\n",
       "    <tr>\n",
       "      <th>5</th>\n",
       "      <td>svetlogorsk</td>\n",
       "      <td>66.677396</td>\n",
       "      <td>91.531807</td>\n",
       "      <td>66.90</td>\n",
       "      <td>63</td>\n",
       "      <td>18</td>\n",
       "      <td>6.71</td>\n",
       "    </tr>\n",
       "    <tr>\n",
       "      <th>6</th>\n",
       "      <td>klyuchi</td>\n",
       "      <td>55.249175</td>\n",
       "      <td>160.851374</td>\n",
       "      <td>59.25</td>\n",
       "      <td>79</td>\n",
       "      <td>0</td>\n",
       "      <td>6.26</td>\n",
       "    </tr>\n",
       "    <tr>\n",
       "      <th>7</th>\n",
       "      <td>thompson</td>\n",
       "      <td>58.285118</td>\n",
       "      <td>-99.851513</td>\n",
       "      <td>69.96</td>\n",
       "      <td>28</td>\n",
       "      <td>20</td>\n",
       "      <td>5.75</td>\n",
       "    </tr>\n",
       "    <tr>\n",
       "      <th>8</th>\n",
       "      <td>rikitea</td>\n",
       "      <td>-39.935493</td>\n",
       "      <td>-139.231151</td>\n",
       "      <td>73.85</td>\n",
       "      <td>76</td>\n",
       "      <td>100</td>\n",
       "      <td>18.43</td>\n",
       "    </tr>\n",
       "    <tr>\n",
       "      <th>9</th>\n",
       "      <td>komsomolskiy</td>\n",
       "      <td>66.262636</td>\n",
       "      <td>171.414215</td>\n",
       "      <td>84.88</td>\n",
       "      <td>32</td>\n",
       "      <td>5</td>\n",
       "      <td>9.22</td>\n",
       "    </tr>\n",
       "  </tbody>\n",
       "</table>\n",
       "</div>"
      ],
      "text/plain": [
       "         Cities   Latitude   Longitude  Temperature  Humidity  Cloudiness  \\\n",
       "0   storforshei  65.222851   14.873092        68.77        68          20   \n",
       "1     chavakkad  10.469536   75.849012        77.07        87         100   \n",
       "2       honiara -12.574210  159.207230        75.60        90         100   \n",
       "3        hobart -73.334280  145.878502        51.08        87          75   \n",
       "4   gainesville  29.279063  -83.062082        88.52        67          90   \n",
       "5   svetlogorsk  66.677396   91.531807        66.90        63          18   \n",
       "6       klyuchi  55.249175  160.851374        59.25        79           0   \n",
       "7      thompson  58.285118  -99.851513        69.96        28          20   \n",
       "8       rikitea -39.935493 -139.231151        73.85        76         100   \n",
       "9  komsomolskiy  66.262636  171.414215        84.88        32           5   \n",
       "\n",
       "   Wind Speed  \n",
       "0        2.30  \n",
       "1        4.99  \n",
       "2        7.63  \n",
       "3        1.99  \n",
       "4        8.05  \n",
       "5        6.71  \n",
       "6        6.26  \n",
       "7        5.75  \n",
       "8       18.43  \n",
       "9        9.22  "
      ]
     },
     "execution_count": 11,
     "metadata": {},
     "output_type": "execute_result"
    }
   ],
   "source": [
    "cities_df = pd.DataFrame({'Cities': cities, 'Latitude': lats, 'Longitude': lngs, 'Temperature': temp, 'Humidity': humidity, 'Cloudiness': cloudiness, 'Wind Speed': wind_speed})\n",
    "cities_df"
   ]
  },
  {
   "cell_type": "code",
   "execution_count": 12,
   "id": "77a0dbd3",
   "metadata": {},
   "outputs": [],
   "source": [
    "cities_df.to_csv(\"../cities_output_student.csv\", encoding=\"utf-8\", index=False) "
   ]
  },
  {
   "cell_type": "code",
   "execution_count": 13,
   "id": "536f912b",
   "metadata": {},
   "outputs": [
    {
     "data": {
      "text/plain": [
       "Text(0, 0.5, 'Temperature')"
      ]
     },
     "execution_count": 13,
     "metadata": {},
     "output_type": "execute_result"
    },
    {
     "data": {
      "image/png": "[encoded data removed]",
      "text/plain": [
       "<Figure size 432x288 with 1 Axes>"
      ]
     },
     "metadata": {
      "needs_background": "light"
     },
     "output_type": "display_data"
    }
   ],
   "source": [
    "# Temperature (F) vs. Latitude\n",
    "plt.scatter(cities_df['Latitude'], cities_df['Temperature'])\n",
    "plt.xlabel('Latitude')\n",
    "plt.ylabel('Temperature')\n",
    "plt.title('Temperature ()')"
   ]
  },
  {
   "cell_type": "code",
   "execution_count": null,
   "id": "83816b53",
   "metadata": {},
   "outputs": [],
   "source": [
    "# Humidity (%) vs Latitude\n",
    "plt.scatter(cities_df['Latitude'], cities_df['Humidity'])\n",
    "plt.xlabel('Latitude')\n",
    "plt.ylabel('Humidity')"
   ]
  },
  {
   "cell_type": "code",
   "execution_count": null,
   "id": "882bd428",
   "metadata": {},
   "outputs": [],
   "source": [
    "# Cloudiness (%) vs Latitude\n",
    "plt.scatter(cities_df['Latitude'], cities_df['Cloudiness'])\n",
    "plt.xlabel('Latitude')\n",
    "plt.ylabel('Cloudiness')"
   ]
  },
  {
   "cell_type": "code",
   "execution_count": null,
   "id": "1c0edec8",
   "metadata": {},
   "outputs": [],
   "source": [
    "# Wind Speed (mph) vs. Latitude\n",
    "plt.scatter(cities_df['Latitude'], cities_df['Wind Speed'])\n",
    "plt.xlabel('Latitude')\n",
    "plt.ylabel('Wind Speed')"
   ]
  },
  {
   "cell_type": "code",
   "execution_count": null,
   "id": "b2581127",
   "metadata": {},
   "outputs": [],
   "source": [
    "# Temperature (F) vs. Latitude\n",
    "plt.scatter(cities_df['Latitude'], cities_df['Temperature'])\n",
    "plt.xlabel('Latitude')\n",
    "plt.ylabel('Temperature')"
   ]
  },
  {
   "cell_type": "code",
   "execution_count": null,
   "id": "1a351712",
   "metadata": {},
   "outputs": [],
   "source": [
    "x_values = cities_df.groupby['Latitude'] < 0\n",
    "plt.scatter(x_values, cities_df['Temperature'])\n",
    "plt.xlabel('Latitude')\n",
    "plt.ylabel('Temperature')"
   ]
  },
  {
   "cell_type": "code",
   "execution_count": null,
   "id": "f4245d78",
   "metadata": {},
   "outputs": [],
   "source": []
  }
 ],
 "metadata": {
  "kernelspec": {
   "display_name": "Python 3",
   "language": "python",
   "name": "python3"
  },
  "language_info": {
   "codemirror_mode": {
    "name": "ipython",
    "version": 3
   },
   "file_extension": ".py",
   "mimetype": "text/x-python",
   "name": "python",
   "nbconvert_exporter": "python",
   "pygments_lexer": "ipython3",
   "version": "3.8.5"
  }
 },
 "nbformat": 4,
 "nbformat_minor": 5
}
