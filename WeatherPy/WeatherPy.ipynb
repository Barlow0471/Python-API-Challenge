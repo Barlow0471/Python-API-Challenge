{
 "cells": [
  {
   "cell_type": "markdown",
   "metadata": {},
   "source": [
    "# WeatherPy\n",
    "----\n",
    "\n",
    "#### Note\n",
    "* Instructions have been included for each segment. You do not have to follow them exactly, but they are included to help you think through the steps."
   ]
  },
  {
   "cell_type": "code",
   "execution_count": 6,
   "metadata": {
    "scrolled": true
   },
   "outputs": [],
   "source": [
    "from citipy import citipy\n",
    "import matplotlib.pyplot as plt\n",
    "import requests\n",
    "from scipy import stats\n",
    "import pandas as pd\n",
    "from api_keys import weather_api_key\n",
    "import numpy as np"
   ]
  },
  {
   "cell_type": "code",
   "execution_count": 7,
   "metadata": {},
   "outputs": [],
   "source": [
    "city = citipy.nearest_city(22.99, 120.21)"
   ]
  },
  {
   "cell_type": "markdown",
   "metadata": {},
   "source": [
    "## Generate Cities List"
   ]
  },
  {
   "cell_type": "code",
   "execution_count": 11,
   "metadata": {},
   "outputs": [
    {
     "name": "stdout",
     "output_type": "stream",
     "text": [
      "['urdzhar', 'arraial do cabo', 'saskylakh', 'atar', 'bredasdorp', 'hermanus', 'opuwo', 'port lincoln', 'vaini', 'sentyabrskiy', 'tiksi', 'linares', 'brae', 'kavieng', 'caravelas', 'nikolskoye', 'laramie', 'avarua', 'atuona', 'touros', 'labuhan', 'hermanus', 'noormarkku', 'juneau', 'vilyuysk', 'san bartolome de tirajana', 'new norfolk', 'atuona', 'adrar', 'puerto ayora', 'busselton', 'mys shmidta', 'portland', 'albany', 'changchun', 'longyearbyen', 'warrnambool', 'atbasar', 'huangmei', 'nizhneyansk', 'ponta delgada', 'fort myers beach', 'syamzha', 'azanka', 'illoqqortoormiut', 'hobart', 'doka', 'whitehorse', 'yellowknife', 'buchanan', 'atuona', 'victoria', 'kiruna', 'belushya guba', 'staryy saltiv', 'provideniya', 'mafinga', 'rikitea', 'albany', 'vao', 'emerald', 'arcata', 'sembakung', 'labutta', 'dikson', 'georgetown', 'taolanaro', 'yellowknife', 'khandyga', 'kaitangata', 'belushya guba', 'yulara', 'castro', 'kalmunai', 'viedma', 'sorvag', 'grindavik', 'port alfred', 'taolanaro', 'thompson', 'petropavlovsk-kamchatskiy', 'punta arenas', 'yellowknife', 'ushuaia', 'longyearbyen', 'san patricio', 'zyryanka', 'hilo', 'carnarvon', 'qaanaaq', 'rikitea', 'san jose', 'ushuaia', 'albany', 'vytegra', 'port augusta', 'puerto escondido', 'salalah', 'punta arenas', 'vaitape', 'san patricio', 'ushuaia', 'dikson', 'new norfolk', 'arraial do cabo', 'nazca', 'rikitea', 'katsuura', 'beringovskiy', 'dikson', 'ushuaia', 'sebastian', 'bredasdorp', 'lebu', 'mataura', 'aksarka', 'busselton', 'ponta do sol', 'samusu', 'tuktoyaktuk', 'quelimane', 'bethel', 'carnarvon', 'kodiak', 'albany', 'chapais', 'ushuaia', 'punta arenas', 'east london', 'rikitea', 'castro', 'iquique', 'tuktoyaktuk', 'quatre cocos', 'ancud', 'taolanaro', 'avarua', 'nalut', 'thompson', 'faanui', 'kasongo-lunda', 'hithadhoo', 'east london', 'rikitea', 'orlik', 'tuktoyaktuk', 'kapaa', 'ciudad valles', 'selfoss', 'pingxiang', 'ponta do sol', 'new norfolk', 'chimore', 'bredasdorp', 'sinnamary', 'white rock', 'fairbanks', 'vaini', 'port alfred', 'maceio', 'trinidad', 'port blair', 'dikson', 'rikitea', 'ilulissat', 'palabuhanratu', 'bambous virieux', 'fort atkinson', 'chuy', 'hilo', 'leningradskiy', 'shobara', 'thompson', 'jamestown', 'carnarvon', 'riyadh', 'hermanus', 'souillac', 'hithadhoo', 'rikitea', 'atuona', 'ushuaia', 'honningsvag', 'rikitea', 'carnarvon', 'urdoma', 'castro', 'ushuaia', 'ketchikan', 'kaitangata', 'staryy saltiv', 'busselton', 'malappuram', 'saint-philippe', 'ambulu', 'ushuaia', 'illoqqortoormiut', 'illoqqortoormiut', 'illoqqortoormiut', 'hermanus', 'bolungarvik', 'katsuura', 'lakatoro', 'ganzhou', 'barrow', 'iqaluit', 'butaritari', 'chornukhy', 'vaini', 'charlottetown', 'beian', 'airai', 'ushuaia', 'tsihombe', 'smithers', 'ushuaia', 'butaritari', 'tuktoyaktuk', 'tasiilaq', 'pisco', 'cape town', 'porto novo', 'dikson', 'ushuaia', 'avera', 'tiksi', 'bilma', 'sangar', 'nikolskoye', 'kahului', 'new norfolk', 'lavrentiya', 'san jose', 'mataura', 'codrington', 'vaini', 'idil', 'taolanaro', 'illoqqortoormiut', 'rikitea', 'kangaatsiaq', 'betlitsa', 'ilulissat', 'busselton', 'castro', 'hithadhoo', 'illoqqortoormiut', 'gat', 'arlit', 'longyearbyen', 'illoqqortoormiut', 'mar del plata', 'toamasina', 'hengshui', 'hermanus', 'caravelas', 'albany', 'damavand', 'keuruu', 'aykhal', 'ushuaia', 'acapulco', 'hasaki', 'hilo', 'port alfred', 'georgetown', 'vaitupu', 'stromness', 'marquette', 'vila franca do campo', 'punta arenas', 'pimentel', 'nemuro', 'zhigansk', 'upernavik', 'iskateley', 'dikson', 'hilo', 'kapaa', 'severo-yeniseyskiy', 'ushuaia', 'belushya guba', 'barentsburg', 'purranque', 'carandai', 'port alfred', 'bluff', 'arya', 'cape town', 'san quintin', 'tuktoyaktuk', 'takoradi', 'nizhneyansk', 'moree', 'bluff', 'bluff', 'marawi', 'hobart', 'albany', 'honningsvag', 'hobart', 'rikitea', 'brae', 'rikitea', 'new norfolk', 'hambantota', 'arraial do cabo', 'los llanos de aridane', 'dongsheng', 'butaritari', 'yasnyy', 'vilyuysk', 'nizhneyansk', 'yulara', 'cherskiy', 'longyearbyen', 'busselton', 'vao', 'bredasdorp', 'cockburn harbour', 'mys shmidta', 'norsup', 'shimoda', 'kirensk', 'sitka', 'ribeira grande', 'nuuk', 'longkou', 'barrow', 'georgetown', 'busselton', 'port elizabeth', 'grand river south east', 'busselton', 'jamestown', 'luderitz', 'kavaratti', 'tumannyy', 'korla', 'barentsburg', 'omboue', 'natal', 'champasak', 'vaini', 'upernavik', 'ribeira grande', 'norsup', 'inhambane', 'mataura', 'east london', 'saldanha', 'gberia fotombu', 'san cristobal', 'taolanaro', 'bethel', 'kapaa', 'tiksi', 'ribeira grande', 'carnarvon', 'busselton', 'aripuana', 'cape town', 'hohhot', 'bethel', 'chokurdakh', 'shimoda', 'busselton', 'aracaju', 'vaini', 'nizhneyansk', 'hermanus', 'port elizabeth', 'port alfred', 'turan', 'barrow', 'sinnamary', 'cidreira', 'puerto ayora', 'mosquera', 'rikitea', 'khatanga', 'hermanus', 'pontivy', 'cayenne', 'butaritari', 'san cristobal', 'buffalo', 'houma', 'grand centre', 'dhidhdhoo', 'barrow', 'mataura', 'lagoa', 'pevek', 'rudsar', 'ushuaia', 'butaritari', 'camana', 'chifeng', 'kieta', 'selenduma', 'sinnamary', 'vaini', 'norman wells', 'udachnyy', 'kavaratti', 'birao', 'talnakh', 'busselton', 'barda', 'busselton', 'punta arenas', 'zaysan', 'khani', 'sitka', 'barentsburg', 'tomatlan', 'vaini', 'shubarkuduk', 'saldanha', 'cape coast', 'port blair', 'salalah', 'atasu', 'faanui', 'sorvag', 'ribeira grande', 'port elizabeth', 'chulym', 'luderitz', 'harper', 'kruisfontein', 'tagusao', 'emerald', 'taolanaro', 'la palma', 'poum', 'port augusta', 'richards bay', 'albany', 'kloulklubed', 'shache', 'jamestown', 'anadyr', 'alta floresta', 'te anau', 'rincon', 'coahuayana', 'bolshaya chernigovka', 'clyde river', 'vaini', 'east london', 'puerto ayora', 'gornoye loo', 'tuktoyaktuk', 'conde', 'ushuaia', 'punta arenas', 'mar del plata', 'mataura', 'kangaba', 'bhuban', 'tuktoyaktuk', 'hithadhoo', 'chokurdakh', 'avarua', 'aurillac', 'punta arenas', 'north bend', 'namatanai', 'matara', 'ancud', 'te anau', 'upernavik', 'faanui', 'lake city', 'fort frances', 'ust-kamchatsk', 'hilo', 'rikitea', 'saint-francois', 'busselton', 'waipawa', 'shangrao', 'kaitangata', 'pisco', 'vestmannaeyjar', 'seoul', 'belushya guba', 'punta arenas', 'flinders', 'arraial do cabo', 'cape town', 'karakendzha', 'kuching', 'busselton', 'punta arenas', 'rikitea', 'ilulissat', 'torbay', 'faanui', 'new norfolk', 'ushuaia', 'punta arenas', 'kirovskiy', 'maumere', 'upernavik', 'port alfred', 'kapaa', 'tasiilaq', 'kaitangata', 'zhanaozen', 'lazaro cardenas', 'ketchikan', 'tucuma', 'albany', 'albany', 'karamken', 'amderma', 'cape town', 'olonets', 'mataura', 'rikitea', 'aasiaat', 'bud', 'aswan', 'souillac', 'broome', 'hermanus', 'punta arenas', 'busselton', 'mataura', 'illoqqortoormiut', 'hobart', 'albany', 'saint-philippe', 'rikitea', 'dikson', 'port townsend', 'jamestown', 'ust-maya', 'baherden', 'illoqqortoormiut', 'pevek', 'cape town', 'khor', 'loudi', 'young', 'jiangyou', 'east london', 'dikson', 'moron', 'albany', 'bethel', 'hithadhoo', 'nueva helvecia', 'ushuaia', 'punta arenas', 'ceres', 'saskylakh', 'tilichiki', 'esperance', 'patacamaya', 'chokurdakh', 'rosario', 'belushya guba', 'bambous virieux', 'port alfred', 'dicabisagan', 'kalmunai', 'mahebourg', 'rikitea', 'iquique', 'itoman', 'dikson', 'kavaratti', 'longyearbyen', 'bonavista', 'jamestown', 'cape town', 'sukumo', 'faanui', 'longyearbyen', 'domoni', 'barrow', 'kempsey', 'poum', 'rawson', 'saskylakh', 'hithadhoo', 'port alfred', 'port alfred', 'hobart', 'bure', 'rikitea', 'kapaa', 'belaya gora', 'hermanus', 'san quintin', 'barrow']\n",
      "['kz', 'br', 'ru', 'mr', 'za', 'za', 'na', 'au', 'to', 'ru', 'ru', 'mx', 'gb', 'pg', 'br', 'ru', 'us', 'ck', 'pf', 'br', 'id', 'za', 'fi', 'us', 'ru', 'es', 'au', 'pf', 'dz', 'ec', 'au', 'ru', 'au', 'au', 'cn', 'sj', 'au', 'kz', 'cn', 'ru', 'pt', 'us', 'ru', 'ru', 'gl', 'au', 'sd', 'ca', 'ca', 'lr', 'pf', 'sc', 'se', 'ru', 'ua', 'ru', 'tz', 'pf', 'au', 'nc', 'au', 'us', 'id', 'mm', 'ru', 'sh', 'mg', 'ca', 'ru', 'nz', 'ru', 'au', 'cl', 'lk', 'ar', 'fo', 'is', 'za', 'mg', 'ca', 'ru', 'cl', 'ca', 'ar', 'sj', 'mx', 'ru', 'us', 'au', 'gl', 'pf', 'gt', 'ar', 'au', 'ru', 'au', 'mx', 'om', 'cl', 'pf', 'mx', 'ar', 'ru', 'au', 'br', 'pe', 'pf', 'jp', 'ru', 'ru', 'ar', 'us', 'za', 'cl', 'pf', 'ru', 'au', 'cv', 'ws', 'ca', 'mz', 'us', 'au', 'us', 'au', 'ca', 'ar', 'cl', 'za', 'pf', 'cl', 'cl', 'ca', 'mu', 'cl', 'mg', 'ck', 'ly', 'ca', 'pf', 'cd', 'mv', 'za', 'pf', 'ru', 'ca', 'us', 'mx', 'is', 'cn', 'cv', 'au', 'bo', 'za', 'gf', 'ca', 'us', 'to', 'za', 'br', 'bo', 'in', 'ru', 'pf', 'gl', 'id', 'mu', 'us', 'uy', 'us', 'ru', 'jp', 'ca', 'sh', 'au', 'sa', 'za', 'mu', 'mv', 'pf', 'pf', 'ar', 'no', 'pf', 'au', 'ru', 'cl', 'ar', 'us', 'nz', 'ua', 'au', 'in', 're', 'id', 'ar', 'gl', 'gl', 'gl', 'za', 'is', 'jp', 'vu', 'cn', 'us', 'ca', 'ki', 'ua', 'to', 'ca', 'cn', 'pw', 'ar', 'mg', 'ca', 'ar', 'ki', 'ca', 'gl', 'pe', 'za', 'cv', 'ru', 'ar', 'pf', 'ru', 'ne', 'ru', 'ru', 'us', 'au', 'ru', 'gt', 'pf', 'ag', 'to', 'tr', 'mg', 'gl', 'pf', 'gl', 'ru', 'gl', 'au', 'cl', 'mv', 'gl', 'ly', 'ne', 'sj', 'gl', 'ar', 'mg', 'cn', 'za', 'br', 'au', 'ir', 'fi', 'ru', 'ar', 'mx', 'jp', 'us', 'za', 'sh', 'wf', 'gb', 'us', 'pt', 'cl', 'pe', 'jp', 'ru', 'gl', 'ru', 'ru', 'us', 'us', 'ru', 'ar', 'ru', 'sj', 'cl', 'br', 'za', 'nz', 'ru', 'za', 'mx', 'ca', 'gh', 'ru', 'au', 'nz', 'nz', 'sd', 'au', 'au', 'no', 'au', 'pf', 'gb', 'pf', 'au', 'lk', 'br', 'es', 'cn', 'ki', 'ru', 'ru', 'ru', 'au', 'ru', 'sj', 'au', 'nc', 'za', 'tc', 'ru', 'vu', 'jp', 'ru', 'us', 'pt', 'gl', 'cn', 'us', 'sh', 'au', 'za', 'mu', 'au', 'sh', 'na', 'in', 'ru', 'cn', 'sj', 'ga', 'br', 'la', 'to', 'gl', 'pt', 'vu', 'mz', 'pf', 'za', 'za', 'sl', 'ec', 'mg', 'us', 'us', 'ru', 'pt', 'za', 'au', 'br', 'za', 'cn', 'us', 'ru', 'jp', 'au', 'br', 'to', 'ru', 'za', 'za', 'za', 'ru', 'us', 'gf', 'br', 'ec', 'co', 'pf', 'ru', 'za', 'fr', 'gf', 'ki', 'ec', 'us', 'us', 'ca', 'mv', 'us', 'pf', 'pt', 'ru', 'ir', 'ar', 'ki', 'pe', 'cn', 'pg', 'ru', 'gf', 'to', 'ca', 'ru', 'in', 'cf', 'ru', 'au', 'ru', 'au', 'cl', 'kz', 'ru', 'us', 'sj', 'mx', 'to', 'kz', 'za', 'gh', 'in', 'om', 'kz', 'pf', 'fo', 'pt', 'za', 'ru', 'na', 'lr', 'za', 'ph', 'au', 'mg', 'pa', 'nc', 'au', 'za', 'au', 'pw', 'cn', 'sh', 'ru', 'br', 'nz', 'an', 'mx', 'ru', 'ca', 'to', 'za', 'ec', 'ru', 'ca', 'br', 'ar', 'cl', 'ar', 'pf', 'ml', 'in', 'ca', 'mv', 'ru', 'ck', 'fr', 'cl', 'us', 'pg', 'lk', 'cl', 'nz', 'gl', 'pf', 'us', 'ca', 'ru', 'us', 'pf', 'gp', 'au', 'nz', 'cn', 'nz', 'pe', 'is', 'kr', 'ru', 'cl', 'au', 'br', 'za', 'tj', 'my', 'au', 'cl', 'pf', 'gl', 'ca', 'pf', 'au', 'ar', 'cl', 'ru', 'id', 'gl', 'za', 'us', 'gl', 'nz', 'kz', 'mx', 'us', 'br', 'au', 'au', 'ru', 'ru', 'za', 'ru', 'pf', 'pf', 'gl', 'no', 'eg', 'mu', 'au', 'za', 'cl', 'au', 'pf', 'gl', 'au', 'au', 're', 'pf', 'ru', 'us', 'sh', 'ru', 'tm', 'gl', 'ru', 'za', 'qa', 'cn', 'au', 'cn', 'za', 'ru', 'mn', 'au', 'us', 'mv', 'uy', 'ar', 'cl', 'za', 'ru', 'ru', 'au', 'bo', 'ru', 'ar', 'ru', 'mu', 'za', 'ph', 'lk', 'mu', 'pf', 'cl', 'jp', 'ru', 'in', 'sj', 'ca', 'sh', 'za', 'jp', 'pf', 'sj', 'km', 'us', 'au', 'nc', 'ar', 'ru', 'mv', 'za', 'za', 'au', 'et', 'pf', 'us', 'ru', 'za', 'mx', 'us']\n"
     ]
    }
   ],
   "source": [
    "latitude = []\n",
    "longitude = []\n",
    "\n",
    "for lat in np.random.randint(-90,90,600):\n",
    "    latitude.append(lat)\n",
    "\n",
    "for long in np.random.randint(-180,180,600):\n",
    "    longitude.append(long)\n",
    "    \n",
    "latitude_and_longitude = zip(latitude,longitude)\n",
    "latitude_and_longitude = list(latitude_and_longitude)\n",
    "latitude_and_longitude\n",
    "\n",
    "cities = []\n",
    "country = []\n",
    "# query_url = 'http://api.openweathermap.org/data/2.5/weather?lat={lat}&lon={long}&appid={weather_api_key}'\n",
    "\n",
    "for lat,lon in latitude_and_longitude:\n",
    "    city = citipy.nearest_city(lat,lon)\n",
    "    city_name = city.city_name\n",
    "    \n",
    "    cities.append(city_name)\n",
    "    \n",
    "    country.append(city.country_code)\n",
    "print(cities)\n",
    "print(country)\n",
    "cities_countries_zipped = zip(cit)"
   ]
  },
  {
   "cell_type": "markdown",
   "metadata": {},
   "source": [
    "### Perform API Calls\n",
    "* Perform a weather check on each city using a series of successive API calls.\n",
    "* Include a print log of each city as it'sbeing processed (with the city number and city name).\n"
   ]
  },
  {
   "cell_type": "code",
   "execution_count": null,
   "metadata": {
    "scrolled": true
   },
   "outputs": [],
   "source": [
    "# Save config info\n",
    "url = \"http://api.openweathermap.org/data/2.5/weather?\"\n",
    "units = \"metric\"\n",
    "\n",
    "# Build query url and request results\n",
    "query_url = f\"{url}appid={weather_api_key}&q={city}&units={units}\"\n",
    "\n",
    "# Get weather data\n",
    "weather_response = requests.get(query_url)\n",
    "weather_json = weather_response.json()\n",
    "\n",
    "# Set temperature from response\n",
    "temperature = weather_json[\"main\"][\"temp\"]\n",
    "\n",
    "for city in cities:\n",
    "    weather_response = requests.get(query_url)\n",
    "    weather_json = weather_response.json()\n",
    "    print(f\"The temperature in {city} is {temperature} C.\")"
   ]
  },
  {
   "cell_type": "markdown",
   "metadata": {},
   "source": [
    "### Convert Raw Data to DataFrame\n",
    "* Export the city data into a .csv.\n",
    "* Display the DataFrame"
   ]
  },
  {
   "cell_type": "code",
   "execution_count": null,
   "metadata": {},
   "outputs": [],
   "source": []
  },
  {
   "cell_type": "code",
   "execution_count": null,
   "metadata": {},
   "outputs": [],
   "source": []
  },
  {
   "cell_type": "markdown",
   "metadata": {},
   "source": [
    "## Inspect the data and remove the cities where the humidity > 100%.\n",
    "----\n",
    "Skip this step if there are no cities that have humidity > 100%. "
   ]
  },
  {
   "cell_type": "code",
   "execution_count": null,
   "metadata": {},
   "outputs": [],
   "source": []
  },
  {
   "cell_type": "code",
   "execution_count": null,
   "metadata": {},
   "outputs": [],
   "source": [
    "#  Get the indices of cities that have humidity over 100%.\n"
   ]
  },
  {
   "cell_type": "code",
   "execution_count": null,
   "metadata": {},
   "outputs": [],
   "source": [
    "# Make a new DataFrame equal to the city data to drop all humidity outliers by index.\n",
    "# Passing \"inplace=False\" will make a copy of the city_data DataFrame, which we call \"clean_city_data\".\n"
   ]
  },
  {
   "cell_type": "code",
   "execution_count": null,
   "metadata": {},
   "outputs": [],
   "source": [
    "\n"
   ]
  },
  {
   "cell_type": "markdown",
   "metadata": {},
   "source": [
    "## Plotting the Data\n",
    "* Use proper labeling of the plots using plot titles (including date of analysis) and axes labels.\n",
    "* Save the plotted figures as .pngs."
   ]
  },
  {
   "cell_type": "markdown",
   "metadata": {},
   "source": [
    "## Latitude vs. Temperature Plot"
   ]
  },
  {
   "cell_type": "code",
   "execution_count": null,
   "metadata": {
    "scrolled": true
   },
   "outputs": [],
   "source": []
  },
  {
   "cell_type": "markdown",
   "metadata": {},
   "source": [
    "## Latitude vs. Humidity Plot"
   ]
  },
  {
   "cell_type": "code",
   "execution_count": null,
   "metadata": {},
   "outputs": [],
   "source": []
  },
  {
   "cell_type": "markdown",
   "metadata": {},
   "source": [
    "## Latitude vs. Cloudiness Plot"
   ]
  },
  {
   "cell_type": "code",
   "execution_count": null,
   "metadata": {},
   "outputs": [],
   "source": []
  },
  {
   "cell_type": "markdown",
   "metadata": {},
   "source": [
    "## Latitude vs. Wind Speed Plot"
   ]
  },
  {
   "cell_type": "code",
   "execution_count": null,
   "metadata": {},
   "outputs": [],
   "source": []
  },
  {
   "cell_type": "markdown",
   "metadata": {},
   "source": [
    "## Linear Regression"
   ]
  },
  {
   "cell_type": "code",
   "execution_count": null,
   "metadata": {},
   "outputs": [],
   "source": []
  },
  {
   "cell_type": "markdown",
   "metadata": {},
   "source": [
    "####  Northern Hemisphere - Max Temp vs. Latitude Linear Regression"
   ]
  },
  {
   "cell_type": "code",
   "execution_count": null,
   "metadata": {},
   "outputs": [],
   "source": []
  },
  {
   "cell_type": "markdown",
   "metadata": {},
   "source": [
    "####  Southern Hemisphere - Max Temp vs. Latitude Linear Regression"
   ]
  },
  {
   "cell_type": "code",
   "execution_count": null,
   "metadata": {},
   "outputs": [],
   "source": []
  },
  {
   "cell_type": "markdown",
   "metadata": {},
   "source": [
    "####  Northern Hemisphere - Humidity (%) vs. Latitude Linear Regression"
   ]
  },
  {
   "cell_type": "code",
   "execution_count": null,
   "metadata": {},
   "outputs": [],
   "source": []
  },
  {
   "cell_type": "markdown",
   "metadata": {},
   "source": [
    "####  Southern Hemisphere - Humidity (%) vs. Latitude Linear Regression"
   ]
  },
  {
   "cell_type": "code",
   "execution_count": null,
   "metadata": {},
   "outputs": [],
   "source": []
  },
  {
   "cell_type": "markdown",
   "metadata": {},
   "source": [
    "####  Northern Hemisphere - Cloudiness (%) vs. Latitude Linear Regression"
   ]
  },
  {
   "cell_type": "code",
   "execution_count": null,
   "metadata": {},
   "outputs": [],
   "source": []
  },
  {
   "cell_type": "markdown",
   "metadata": {},
   "source": [
    "####  Southern Hemisphere - Cloudiness (%) vs. Latitude Linear Regression"
   ]
  },
  {
   "cell_type": "code",
   "execution_count": null,
   "metadata": {},
   "outputs": [],
   "source": []
  },
  {
   "cell_type": "markdown",
   "metadata": {},
   "source": [
    "####  Northern Hemisphere - Wind Speed (mph) vs. Latitude Linear Regression"
   ]
  },
  {
   "cell_type": "code",
   "execution_count": null,
   "metadata": {},
   "outputs": [],
   "source": []
  },
  {
   "cell_type": "markdown",
   "metadata": {},
   "source": [
    "####  Southern Hemisphere - Wind Speed (mph) vs. Latitude Linear Regression"
   ]
  },
  {
   "cell_type": "code",
   "execution_count": null,
   "metadata": {},
   "outputs": [],
   "source": []
  },
  {
   "cell_type": "code",
   "execution_count": null,
   "metadata": {},
   "outputs": [],
   "source": []
  }
 ],
 "metadata": {
  "anaconda-cloud": {},
  "kernel_info": {
   "name": "python3"
  },
  "kernelspec": {
   "display_name": "Python 3",
   "language": "python",
   "name": "python3"
  },
  "language_info": {
   "codemirror_mode": {
    "name": "ipython",
    "version": 3
   },
   "file_extension": ".py",
   "mimetype": "text/x-python",
   "name": "python",
   "nbconvert_exporter": "python",
   "pygments_lexer": "ipython3",
   "version": "3.8.5"
  },
  "latex_envs": {
   "LaTeX_envs_menu_present": true,
   "autoclose": false,
   "autocomplete": true,
   "bibliofile": "biblio.bib",
   "cite_by": "apalike",
   "current_citInitial": 1,
   "eqLabelWithNumbers": true,
   "eqNumInitial": 1,
   "hotkeys": {
    "equation": "Ctrl-E",
    "itemize": "Ctrl-I"
   },
   "labels_anchors": false,
   "latex_user_defs": false,
   "report_style_numbering": false,
   "user_envs_cfg": false
  },
  "nteract": {
   "version": "0.12.3"
  }
 },
 "nbformat": 4,
 "nbformat_minor": 2
}
